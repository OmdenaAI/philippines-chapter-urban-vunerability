{
 "cells": [
  {
   "cell_type": "code",
   "execution_count": 60,
   "metadata": {},
   "outputs": [],
   "source": [
    "import requests\n",
    "from lxml import html\n",
    "import pandas as pd\n",
    "import time"
   ]
  },
  {
   "cell_type": "code",
   "execution_count": 61,
   "metadata": {},
   "outputs": [],
   "source": [
    "url = 'https://cmci.dti.gov.ph/lgu-profile.php?lgu=Aborlan&year=2019'"
   ]
  },
  {
   "cell_type": "code",
   "execution_count": 4,
   "metadata": {},
   "outputs": [],
   "source": [
    "# send a GET request to the URL\n",
    "response = requests.get(url)"
   ]
  },
  {
   "cell_type": "code",
   "execution_count": 5,
   "metadata": {},
   "outputs": [],
   "source": [
    "# parse the HTML content of the page\n",
    "soup = BeautifulSoup(response.text, 'html.parser')"
   ]
  },
  {
   "cell_type": "code",
   "execution_count": 6,
   "metadata": {},
   "outputs": [],
   "source": [
    "# find the dropdown list containing all LGUs\n",
    "dropdown_list = soup.find('select', {'id': 'lgu'})"
   ]
  },
  {
   "cell_type": "code",
   "execution_count": 7,
   "metadata": {},
   "outputs": [],
   "source": [
    "# create a dictionary to store the LGU names as keys and their population data as values\n",
    "population_data = {}"
   ]
  },
  {
   "cell_type": "code",
   "execution_count": null,
   "metadata": {},
   "outputs": [],
   "source": [
    "# loop through all options in the dropdown list\n",
    "for option in dropdown_list.find_all('option'):\n",
    "    # extract the LGU name and its URL\n",
    "    lgu_name = option.text\n",
    "    lgu_url = 'https://cmci.dti.gov.ph/lgu-profile.php?lgu=' + lgu_name.lower().replace(' ', '+') + '&year=2021'\n",
    "\n",
    "    # send a GET request to the LGU URL\n",
    "    response = requests.get(lgu_url)\n",
    "\n",
    "    # parse the HTML content of the LGU page\n",
    "    soup = BeautifulSoup(response.text, 'html.parser')\n",
    "\n",
    "    # find the population data table\n",
    "    population_table = soup.find('table', {'id': 'tblPopulation'})\n",
    "\n",
    "    # extract the population data from the table\n",
    "    population_table = soup.find('table', {'id': 'tblPopulation'})\n",
    "    if population_table:\n",
    "        population = population_table.find_all('td')[-1].text\n",
    "    else:\n",
    "        population = ''\n",
    "\n",
    "    # add the LGU name and its population data to the dictionary\n",
    "    population_data[lgu_name] = population\n"
   ]
  },
  {
   "cell_type": "code",
   "execution_count": null,
   "metadata": {},
   "outputs": [],
   "source": [
    "url = 'https://cmci.dti.gov.ph/lgu-profile.php?lgu=Aborlan'\n",
    "\n",
    "# send a GET request to the URL\n",
    "response = requests.get(url)\n",
    "\n",
    "# parse the HTML content of the page\n",
    "tree = html.fromstring(response.content)\n",
    "\n",
    "# find the dropdown list containing all LGUs\n",
    "dropdown_list = tree.xpath('//select[@id=\"lgu\"]/option/text()')\n",
    "\n",
    "# create a list to store the population data for each LGU\n",
    "population_data = []\n",
    "\n",
    "# loop through all options in the dropdown list\n",
    "for lgu_name in dropdown_list:\n",
    "    # create the URL for the LGU\n",
    "    lgu_url = 'https://cmci.dti.gov.ph/lgu-profile.php?lgu=' + lgu_name.lower().replace(' ', '+')\n",
    "\n",
    "    # send a GET request to the LGU URL\n",
    "    response = requests.get(lgu_url)\n",
    "\n",
    "    # parse the HTML content of the LGU page\n",
    "    tree = html.fromstring(response.content)\n",
    "\n",
    "    # find the population data\n",
    "    population = tree.xpath('/html/body/div[1]/div/div[3]/div[2]/div[1]/div/div/div/div[2]/table/tbody/tr[4]/td[4]')[0].text\n",
    "\n",
    "    # add the LGU name and its population data to the list\n",
    "    population_data.append([lgu_name, population[:] if population else 'Nan'])\n",
    "\n",
    "    time.sleep(2)"
   ]
  },
  {
   "cell_type": "code",
   "execution_count": null,
   "metadata": {},
   "outputs": [],
   "source": [
    "df = pd.DataFrame(population_data)\n",
    "df"
   ]
  },
  {
   "cell_type": "code",
   "execution_count": null,
   "metadata": {},
   "outputs": [],
   "source": [
    "df = pd.DataFrame(population_data)\n",
    "df.to_csv('population_data.csv')"
   ]
  }
 ],
 "metadata": {
  "kernelspec": {
   "display_name": "ph_env",
   "language": "python",
   "name": "python3"
  },
  "language_info": {
   "codemirror_mode": {
    "name": "ipython",
    "version": 3
   },
   "file_extension": ".py",
   "mimetype": "text/x-python",
   "name": "python",
   "nbconvert_exporter": "python",
   "pygments_lexer": "ipython3",
   "version": "3.10.4"
  },
  "orig_nbformat": 4,
  "vscode": {
   "interpreter": {
    "hash": "630ce73d8abeb9508717e05bd4fa7eab18a4ca63890b035f07edd0e80ad36801"
   }
  }
 },
 "nbformat": 4,
 "nbformat_minor": 2
}
