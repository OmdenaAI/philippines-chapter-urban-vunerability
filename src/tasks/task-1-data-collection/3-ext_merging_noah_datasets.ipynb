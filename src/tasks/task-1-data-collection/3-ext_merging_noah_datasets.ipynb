{
  "nbformat": 4,
  "nbformat_minor": 0,
  "metadata": {
    "colab": {
      "provenance": []
    },
    "kernelspec": {
      "name": "python3",
      "display_name": "Python 3"
    },
    "language_info": {
      "name": "python"
    },
    "accelerator": "GPU",
    "gpuClass": "standard"
  },
  "cells": [
    {
      "cell_type": "markdown",
      "source": [
        "Before running the script make sure you have added a shortcut to the [NOAH Datasets](https://drive.google.com/drive/folders/1ALE4-E9c-4AGjm1fqiPprWHrLUskeY9o?usp=share_link) into your Google Drive.\n"
      ],
      "metadata": {
        "id": "Fbhe5E2Qcwcb"
      }
    },
    {
      "cell_type": "code",
      "source": [
        "# Mount data from drive\n",
        "from google.colab import drive\n",
        "drive.mount('/content/drive')"
      ],
      "metadata": {
        "colab": {
          "base_uri": "https://localhost:8080/"
        },
        "id": "xDwd_vdpfjLb",
        "outputId": "2294ba68-1988-4656-aa8b-04b26566d54b"
      },
      "execution_count": 7,
      "outputs": [
        {
          "output_type": "stream",
          "name": "stdout",
          "text": [
            "Drive already mounted at /content/drive; to attempt to forcibly remount, call drive.mount(\"/content/drive\", force_remount=True).\n"
          ]
        }
      ]
    },
    {
      "cell_type": "markdown",
      "source": [
        "*Making a copy of NOAH dataset on Google Drive.* First, `cd` into the NOAH dataset shortcut by running the cell below. The path to it might differ for you but in my case I added it into my GDrive's root folder. \n",
        "\n",
        "The format for the command is: \n",
        "\n",
        "\n",
        "```\n",
        "%cd /path/to/NOAH/shortcut\n",
        "```\n",
        "\n",
        "Upon running, it should show the exact path to the symbolic link. Copy it! Mine looks like this: \n",
        "\n",
        "`/content/drive/.shortcut-targets-by-id/1ALE4-E9c-4AGjm1fqiPprWHrLUskeY9o/NOAH Downloads`"
      ],
      "metadata": {
        "id": "MuYhbi2Ls0Ik"
      }
    },
    {
      "cell_type": "code",
      "source": [
        "#%cd /content/drive/MyDrive/NOAH Downloads"
      ],
      "metadata": {
        "id": "8a8jbB2aeiLG",
        "colab": {
          "base_uri": "https://localhost:8080/"
        },
        "outputId": "e6354b19-d1f9-452b-bff1-196bec90102f"
      },
      "execution_count": 6,
      "outputs": [
        {
          "output_type": "stream",
          "name": "stdout",
          "text": [
            "/content/drive/.shortcut-targets-by-id/1ALE4-E9c-4AGjm1fqiPprWHrLUskeY9o/NOAH Downloads\n"
          ]
        }
      ]
    },
    {
      "cell_type": "markdown",
      "source": [
        "Next, create a new folder in your Google Drive where we will copy the contents of the NOAH dataset to. Mine is in the path: \n",
        "\n",
        "`/content/drive/MyDrive/noah`\n",
        "\n",
        "(I don't use Colab that much so I don't mind cluttering up my root folder lol)"
      ],
      "metadata": {
        "id": "oKNuAsk-hBdM"
      }
    },
    {
      "cell_type": "markdown",
      "source": [
        "Run the cell below to copy from the shortcut into your desired destination folder. This has to be done because files inside shortcuts are read-only. \n",
        "\n",
        "`cp -r '/sym/link/path/.' 'path/to/desired/directory'`"
      ],
      "metadata": {
        "id": "8WAr1rBDdY8M"
      }
    },
    {
      "cell_type": "code",
      "source": [
        "#%cp -r '/content/drive/.shortcut-targets-by-id/1ALE4-E9c-4AGjm1fqiPprWHrLUskeY9o/NOAH Downloads/.' '/content/drive/MyDrive/noah'"
      ],
      "metadata": {
        "id": "bzaoVm5Je1GL"
      },
      "execution_count": 2,
      "outputs": []
    },
    {
      "cell_type": "markdown",
      "source": [
        "Lastly, under your desired category, copy the contents of the ph_cities_v2 folder from our repo. \n",
        "\n",
        "The path in the repo is this: \n",
        "\n",
        "`philippines-chapter-urban-vunerability/src/data/geolocation/ph_cities_joined_v2/`\n"
      ],
      "metadata": {
        "id": "Ax6ZWfvXh0ld"
      }
    },
    {
      "cell_type": "code",
      "execution_count": 10,
      "metadata": {
        "id": "Z6yJJtPhbvb6"
      },
      "outputs": [],
      "source": [
        "import pandas as pd\n",
        "from pathlib import Path\n",
        "import numpy as np\n",
        "import shutil\n",
        "import geopandas as gp\n",
        "import os\n",
        "import zipfile"
      ]
    },
    {
      "cell_type": "markdown",
      "source": [
        "## Helper functions"
      ],
      "metadata": {
        "id": "c_01k-8Wc6Yr"
      }
    },
    {
      "cell_type": "code",
      "source": [
        "def unzip_path(path):\n",
        "  zipfile.ZipFile(path).extractall(temp_folder)"
      ],
      "metadata": {
        "id": "fFSTwcZz3ybT"
      },
      "execution_count": 11,
      "outputs": []
    },
    {
      "cell_type": "code",
      "source": [
        "def delete_zip_folder():\n",
        "  for filename in os.listdir(temp_folder):\n",
        "    file_path = os.path.join(temp_folder, filename)\n",
        "    try:\n",
        "        if os.path.isfile(file_path) or os.path.islink(file_path):\n",
        "            os.unlink(file_path)\n",
        "        elif os.path.isdir(file_path):\n",
        "            shutil.rmtree(file_path)\n",
        "    except Exception as e:\n",
        "        print('Failed to delete %s. Reason: %s' % (file_path, e))"
      ],
      "metadata": {
        "id": "ruYYN7VU4l5N"
      },
      "execution_count": 12,
      "outputs": []
    },
    {
      "cell_type": "code",
      "source": [
        "def map_to_city(path_to_dir, dirs):\n",
        "  for dir in dirs:\n",
        "    print(f\"Merging {dir}...\")\n",
        "    path = Path(path_to_dir, dir)\n",
        "    zip_files = os.listdir(path)\n",
        "\n",
        "    for i in range(len(zip_files)): \n",
        "\n",
        "      print(f\"Progress: {i+1}/{len(zip_files)}\")\n",
        "\n",
        "      print(f\"Unzipping {zip_files[i]}...\")\n",
        "      unzip_path(Path(path, zip_files[i]))\n",
        "\n",
        "      print(f\"Reading {zip_files[i]}...\")\n",
        "      if i == 0:\n",
        "        gdf = gp.read_file(Path(path,zip_files[i]))\n",
        "        dissolve_col = [col for col in gdf.columns if col != \"geometry\"][0]\n",
        "      else:\n",
        "        temp_gdf = gp.read_file(Path(path,zip_files[i]))\n",
        "        gdf = pd.concat([gdf, temp_gdf])\n",
        "\n",
        "        # Dissolving in HAZ\n",
        "\n",
        "        gdf = gdf.dissolve(by=dissolve_col, aggfunc=\"sum\")\n",
        "        gdf = gdf.reset_index()\n",
        "\n",
        "      print(f\"Deleting {zip_files[i]} artifacts...\")\n",
        "      delete_zip_folder()\n",
        "      print(\"========\")\n",
        "\n",
        "    destination_dir = Path(path, f\"{dir}-merged\")\n",
        "    destination_dir.mkdir(parents=True, exist_ok=True)\n",
        "\n",
        "    gdf.to_parquet(Path(destination_dir, f\"{dir}.parquet\"))\n",
        "\n",
        "    merged = gp.overlay(df, gdf, how='intersection').reset_index()\n",
        "    merged.to_parquet(Path(destination_dir, f\"{dir}-by-city-munic.parquet\"))"
      ],
      "metadata": {
        "id": "xSz7A1J47iTp"
      },
      "execution_count": 13,
      "outputs": []
    },
    {
      "cell_type": "code",
      "source": [
        "# Create temp_folder to hold unarchived zip-files\n",
        "temp_folder = Path(\"/content/drive/MyDrive/temp-folder\")\n",
        "temp_folder.mkdir(parents=True, exist_ok=True)"
      ],
      "metadata": {
        "id": "fcfDXJK_vPG-"
      },
      "execution_count": 14,
      "outputs": []
    },
    {
      "cell_type": "code",
      "source": [
        "# Import city/municipality df\n",
        "# This is the path to the shp file in the \n",
        "# ph_cities_joined_v2 we pasted earlier. \n",
        "df = gp.read_file(\"/content/drive/MyDrive/noah/ph_cities_joined_v2/ph_cities_v2.shp\")"
      ],
      "metadata": {
        "id": "mU8ULvU2GC_T"
      },
      "execution_count": 15,
      "outputs": []
    },
    {
      "cell_type": "code",
      "source": [
        "keep_cols = [\"name\", \"geometry\"]\n",
        "df = df[keep_cols]"
      ],
      "metadata": {
        "id": "hL9xq4abLRKT"
      },
      "execution_count": 16,
      "outputs": []
    },
    {
      "cell_type": "markdown",
      "source": [
        "## Storm Surge"
      ],
      "metadata": {
        "id": "iRG0Uf6yc_km"
      }
    },
    {
      "cell_type": "code",
      "source": [
        "PATH_TO_STORMSURGE_DIR = Path(\"/content/drive/MyDrive/noah/Storm Surge\")\n",
        "storm_surge_advisory_dirs = [f\"StormSurgeAdvisory{i}\" for i in np.arange(1,5)]"
      ],
      "metadata": {
        "id": "4e_QY_XAxGD1"
      },
      "execution_count": 11,
      "outputs": []
    },
    {
      "cell_type": "code",
      "source": [
        "map_to_city(PATH_TO_STORMSURGE_DIR, storm_surge_advisory_dirs)"
      ],
      "metadata": {
        "colab": {
          "base_uri": "https://localhost:8080/"
        },
        "id": "_qSrqZbBACH1",
        "outputId": "5ea3a705-574b-442f-8cac-274a1995d7ae"
      },
      "execution_count": null,
      "outputs": [
        {
          "output_type": "stream",
          "name": "stdout",
          "text": [
            "Merging StormSurgeAdvisory1...\n",
            "Progress: 1/68\n",
            "Unzipping Zambales.zip...\n",
            "Reading Zambales.zip...\n",
            "Deleting Zambales.zip artifacts...\n",
            "========\n",
            "Progress: 2/68\n",
            "Unzipping CamarinesSur.zip...\n",
            "Reading CamarinesSur.zip...\n",
            "Deleting CamarinesSur.zip artifacts...\n",
            "========\n",
            "Progress: 3/68\n",
            "Unzipping Quezon.zip...\n",
            "Reading Quezon.zip...\n",
            "Deleting Quezon.zip artifacts...\n",
            "========\n",
            "Progress: 4/68\n",
            "Unzipping Aurora.zip...\n",
            "Reading Aurora.zip...\n",
            "Deleting Aurora.zip artifacts...\n",
            "========\n",
            "Progress: 5/68\n",
            "Unzipping Batanes.zip...\n",
            "Reading Batanes.zip...\n",
            "Deleting Batanes.zip artifacts...\n",
            "========\n",
            "Progress: 6/68\n",
            "Unzipping LaUnion.zip...\n",
            "Reading LaUnion.zip...\n",
            "Deleting LaUnion.zip artifacts...\n",
            "========\n",
            "Progress: 7/68\n",
            "Unzipping Batangas.zip...\n",
            "Reading Batangas.zip...\n",
            "Deleting Batangas.zip artifacts...\n",
            "========\n",
            "Progress: 8/68\n",
            "Unzipping CamarinesNorte.zip...\n",
            "Reading CamarinesNorte.zip...\n",
            "Deleting CamarinesNorte.zip artifacts...\n",
            "========\n",
            "Progress: 9/68\n",
            "Unzipping Albay.zip...\n",
            "Reading Albay.zip...\n",
            "Deleting Albay.zip artifacts...\n",
            "========\n",
            "Progress: 10/68\n",
            "Unzipping Catanduanes.zip...\n",
            "Reading Catanduanes.zip...\n",
            "Deleting Catanduanes.zip artifacts...\n",
            "========\n",
            "Progress: 11/68\n",
            "Unzipping Bataan.zip...\n",
            "Reading Bataan.zip...\n",
            "Deleting Bataan.zip artifacts...\n",
            "========\n",
            "Progress: 12/68\n",
            "Unzipping Bulacan.zip...\n",
            "Reading Bulacan.zip...\n",
            "Deleting Bulacan.zip artifacts...\n",
            "========\n",
            "Progress: 13/68\n",
            "Unzipping Pampanga.zip...\n",
            "Reading Pampanga.zip...\n",
            "Deleting Pampanga.zip artifacts...\n",
            "========\n",
            "Progress: 14/68\n",
            "Unzipping Cavite.zip...\n",
            "Reading Cavite.zip...\n",
            "Deleting Cavite.zip artifacts...\n",
            "========\n",
            "Progress: 15/68\n",
            "Unzipping Pangasinan.zip...\n",
            "Reading Pangasinan.zip...\n",
            "Deleting Pangasinan.zip artifacts...\n",
            "========\n",
            "Progress: 16/68\n",
            "Unzipping Isabela.zip...\n",
            "Reading Isabela.zip...\n",
            "Deleting Isabela.zip artifacts...\n",
            "========\n",
            "Progress: 17/68\n",
            "Unzipping Cagayan.zip...\n",
            "Reading Cagayan.zip...\n",
            "Deleting Cagayan.zip artifacts...\n",
            "========\n",
            "Progress: 18/68\n",
            "Unzipping IlocosNorte.zip...\n",
            "Reading IlocosNorte.zip...\n",
            "Deleting IlocosNorte.zip artifacts...\n",
            "========\n",
            "Progress: 19/68\n",
            "Unzipping IlocosSur.zip...\n",
            "Reading IlocosSur.zip...\n",
            "Deleting IlocosSur.zip artifacts...\n",
            "========\n",
            "Progress: 20/68\n",
            "Unzipping Guimaras.zip...\n",
            "Reading Guimaras.zip...\n",
            "Deleting Guimaras.zip artifacts...\n",
            "========\n",
            "Progress: 21/68\n",
            "Unzipping Leyte.zip...\n",
            "Reading Leyte.zip...\n",
            "Deleting Leyte.zip artifacts...\n",
            "========\n",
            "Progress: 22/68\n",
            "Unzipping Bohol.zip...\n",
            "Reading Bohol.zip...\n",
            "Deleting Bohol.zip artifacts...\n",
            "========\n",
            "Progress: 23/68\n",
            "Unzipping NorthernSamar.zip...\n",
            "Reading NorthernSamar.zip...\n",
            "Deleting NorthernSamar.zip artifacts...\n",
            "========\n",
            "Progress: 24/68\n",
            "Unzipping Cebu.zip...\n",
            "Reading Cebu.zip...\n",
            "Deleting Cebu.zip artifacts...\n",
            "========\n",
            "Progress: 25/68\n",
            "Unzipping Iloilo.zip...\n",
            "Reading Iloilo.zip...\n",
            "Deleting Iloilo.zip artifacts...\n",
            "========\n",
            "Progress: 26/68\n",
            "Unzipping Aklan.zip...\n",
            "Reading Aklan.zip...\n",
            "Deleting Aklan.zip artifacts...\n",
            "========\n",
            "Progress: 27/68\n",
            "Unzipping Antique.zip...\n",
            "Reading Antique.zip...\n",
            "Deleting Antique.zip artifacts...\n",
            "========\n",
            "Progress: 28/68\n",
            "Unzipping Sorsogon.zip...\n",
            "Reading Sorsogon.zip...\n",
            "Deleting Sorsogon.zip artifacts...\n",
            "========\n",
            "Progress: 29/68\n",
            "Unzipping Siquijor.zip...\n",
            "Reading Siquijor.zip...\n",
            "Deleting Siquijor.zip artifacts...\n",
            "========\n",
            "Progress: 30/68\n",
            "Unzipping Capiz.zip...\n",
            "Reading Capiz.zip...\n",
            "Deleting Capiz.zip artifacts...\n",
            "========\n",
            "Progress: 31/68\n",
            "Unzipping Masbate.zip...\n",
            "Reading Masbate.zip...\n",
            "Deleting Masbate.zip artifacts...\n",
            "========\n",
            "Progress: 32/68\n",
            "Unzipping EasternSamar.zip...\n",
            "Reading EasternSamar.zip...\n",
            "Deleting EasternSamar.zip artifacts...\n",
            "========\n",
            "Progress: 33/68\n",
            "Unzipping MetroManila.zip...\n",
            "Reading MetroManila.zip...\n",
            "Deleting MetroManila.zip artifacts...\n",
            "========\n",
            "Progress: 34/68\n",
            "Unzipping Sarangani.zip...\n",
            "Reading Sarangani.zip...\n",
            "Deleting Sarangani.zip artifacts...\n",
            "========\n",
            "Progress: 35/68\n",
            "Unzipping MisamisOccidental.zip...\n",
            "Reading MisamisOccidental.zip...\n",
            "Deleting MisamisOccidental.zip artifacts...\n",
            "========\n",
            "Progress: 36/68\n",
            "Unzipping CompostelaValley.zip...\n",
            "Reading CompostelaValley.zip...\n",
            "Deleting CompostelaValley.zip artifacts...\n",
            "========\n",
            "Progress: 37/68\n",
            "Unzipping Samar.zip...\n",
            "Reading Samar.zip...\n",
            "Deleting Samar.zip artifacts...\n",
            "========\n",
            "Progress: 38/68\n",
            "Unzipping ZamboangaSibugay.zip...\n",
            "Reading ZamboangaSibugay.zip...\n",
            "Deleting ZamboangaSibugay.zip artifacts...\n",
            "========\n",
            "Progress: 39/68\n",
            "Unzipping SultanKudarat.zip...\n",
            "Reading SultanKudarat.zip...\n",
            "Deleting SultanKudarat.zip artifacts...\n",
            "========\n",
            "Progress: 40/68\n",
            "Unzipping ZamboangaDelNorte.zip...\n",
            "Reading ZamboangaDelNorte.zip...\n",
            "Deleting ZamboangaDelNorte.zip artifacts...\n",
            "========\n",
            "Progress: 41/68\n",
            "Unzipping MisamisOriental.zip...\n",
            "Reading MisamisOriental.zip...\n"
          ]
        }
      ]
    },
    {
      "cell_type": "markdown",
      "source": [
        "## Flood"
      ],
      "metadata": {
        "id": "HywLf_72APuN"
      }
    },
    {
      "cell_type": "code",
      "source": [
        "PATH_TO_FLOOD_DIR = Path(\"/content/drive/MyDrive/noah/Flood\")\n",
        "flood_dirs = [\"5yr\", \"25yr\", \"100yr\"]"
      ],
      "metadata": {
        "id": "N5ShLLyMAUA6"
      },
      "execution_count": 17,
      "outputs": []
    },
    {
      "cell_type": "code",
      "source": [
        "map_to_city(PATH_TO_FLOOD_DIR, flood_dirs)"
      ],
      "metadata": {
        "colab": {
          "base_uri": "https://localhost:8080/",
          "height": 494
        },
        "id": "5Qa3d3nRAhE6",
        "outputId": "88895068-0e5a-49a9-a252-d7e570d733b3"
      },
      "execution_count": 18,
      "outputs": [
        {
          "output_type": "stream",
          "name": "stdout",
          "text": [
            "Merging 5yr...\n",
            "Progress: 1/65\n",
            "Unzipping IlocosNorte.zip...\n",
            "Reading IlocosNorte.zip...\n",
            "Deleting IlocosNorte.zip artifacts...\n",
            "========\n",
            "Progress: 2/65\n",
            "Unzipping LaUnion.zip...\n",
            "Reading LaUnion.zip...\n"
          ]
        },
        {
          "output_type": "error",
          "ename": "KeyboardInterrupt",
          "evalue": "ignored",
          "traceback": [
            "\u001b[0;31m---------------------------------------------------------------------------\u001b[0m",
            "\u001b[0;31mKeyboardInterrupt\u001b[0m                         Traceback (most recent call last)",
            "\u001b[0;32m<ipython-input-18-3878f3629978>\u001b[0m in \u001b[0;36m<module>\u001b[0;34m\u001b[0m\n\u001b[0;32m----> 1\u001b[0;31m \u001b[0mmap_to_city\u001b[0m\u001b[0;34m(\u001b[0m\u001b[0mPATH_TO_FLOOD_DIR\u001b[0m\u001b[0;34m,\u001b[0m \u001b[0mflood_dirs\u001b[0m\u001b[0;34m)\u001b[0m\u001b[0;34m\u001b[0m\u001b[0;34m\u001b[0m\u001b[0m\n\u001b[0m",
            "\u001b[0;32m<ipython-input-13-fb3454b16413>\u001b[0m in \u001b[0;36mmap_to_city\u001b[0;34m(path_to_dir, dirs)\u001b[0m\n\u001b[1;32m     17\u001b[0m         \u001b[0mdissolve_col\u001b[0m \u001b[0;34m=\u001b[0m \u001b[0;34m[\u001b[0m\u001b[0mcol\u001b[0m \u001b[0;32mfor\u001b[0m \u001b[0mcol\u001b[0m \u001b[0;32min\u001b[0m \u001b[0mgdf\u001b[0m\u001b[0;34m.\u001b[0m\u001b[0mcolumns\u001b[0m \u001b[0;32mif\u001b[0m \u001b[0mcol\u001b[0m \u001b[0;34m!=\u001b[0m \u001b[0;34m\"geometry\"\u001b[0m\u001b[0;34m]\u001b[0m\u001b[0;34m[\u001b[0m\u001b[0;36m0\u001b[0m\u001b[0;34m]\u001b[0m\u001b[0;34m\u001b[0m\u001b[0;34m\u001b[0m\u001b[0m\n\u001b[1;32m     18\u001b[0m       \u001b[0;32melse\u001b[0m\u001b[0;34m:\u001b[0m\u001b[0;34m\u001b[0m\u001b[0;34m\u001b[0m\u001b[0m\n\u001b[0;32m---> 19\u001b[0;31m         \u001b[0mtemp_gdf\u001b[0m \u001b[0;34m=\u001b[0m \u001b[0mgp\u001b[0m\u001b[0;34m.\u001b[0m\u001b[0mread_file\u001b[0m\u001b[0;34m(\u001b[0m\u001b[0mPath\u001b[0m\u001b[0;34m(\u001b[0m\u001b[0mpath\u001b[0m\u001b[0;34m,\u001b[0m\u001b[0mzip_files\u001b[0m\u001b[0;34m[\u001b[0m\u001b[0mi\u001b[0m\u001b[0;34m]\u001b[0m\u001b[0;34m)\u001b[0m\u001b[0;34m)\u001b[0m\u001b[0;34m\u001b[0m\u001b[0;34m\u001b[0m\u001b[0m\n\u001b[0m\u001b[1;32m     20\u001b[0m         \u001b[0mgdf\u001b[0m \u001b[0;34m=\u001b[0m \u001b[0mpd\u001b[0m\u001b[0;34m.\u001b[0m\u001b[0mconcat\u001b[0m\u001b[0;34m(\u001b[0m\u001b[0;34m[\u001b[0m\u001b[0mgdf\u001b[0m\u001b[0;34m,\u001b[0m \u001b[0mtemp_gdf\u001b[0m\u001b[0;34m]\u001b[0m\u001b[0;34m)\u001b[0m\u001b[0;34m\u001b[0m\u001b[0;34m\u001b[0m\u001b[0m\n\u001b[1;32m     21\u001b[0m \u001b[0;34m\u001b[0m\u001b[0m\n",
            "\u001b[0;32m/usr/local/lib/python3.8/dist-packages/geopandas/io/file.py\u001b[0m in \u001b[0;36m_read_file\u001b[0;34m(filename, bbox, mask, rows, engine, **kwargs)\u001b[0m\n\u001b[1;32m    257\u001b[0m \u001b[0;34m\u001b[0m\u001b[0m\n\u001b[1;32m    258\u001b[0m     \u001b[0;32mif\u001b[0m \u001b[0mengine\u001b[0m \u001b[0;34m==\u001b[0m \u001b[0;34m\"fiona\"\u001b[0m\u001b[0;34m:\u001b[0m\u001b[0;34m\u001b[0m\u001b[0;34m\u001b[0m\u001b[0m\n\u001b[0;32m--> 259\u001b[0;31m         return _read_file_fiona(\n\u001b[0m\u001b[1;32m    260\u001b[0m             \u001b[0mpath_or_bytes\u001b[0m\u001b[0;34m,\u001b[0m \u001b[0mfrom_bytes\u001b[0m\u001b[0;34m,\u001b[0m \u001b[0mbbox\u001b[0m\u001b[0;34m=\u001b[0m\u001b[0mbbox\u001b[0m\u001b[0;34m,\u001b[0m \u001b[0mmask\u001b[0m\u001b[0;34m=\u001b[0m\u001b[0mmask\u001b[0m\u001b[0;34m,\u001b[0m \u001b[0mrows\u001b[0m\u001b[0;34m=\u001b[0m\u001b[0mrows\u001b[0m\u001b[0;34m,\u001b[0m \u001b[0;34m**\u001b[0m\u001b[0mkwargs\u001b[0m\u001b[0;34m\u001b[0m\u001b[0;34m\u001b[0m\u001b[0m\n\u001b[1;32m    261\u001b[0m         )\n",
            "\u001b[0;32m/usr/local/lib/python3.8/dist-packages/geopandas/io/file.py\u001b[0m in \u001b[0;36m_read_file_fiona\u001b[0;34m(path_or_bytes, from_bytes, bbox, mask, rows, where, **kwargs)\u001b[0m\n\u001b[1;32m    358\u001b[0m                 )\n\u001b[1;32m    359\u001b[0m             \u001b[0;32melse\u001b[0m\u001b[0;34m:\u001b[0m\u001b[0;34m\u001b[0m\u001b[0;34m\u001b[0m\u001b[0m\n\u001b[0;32m--> 360\u001b[0;31m                 df = GeoDataFrame.from_features(\n\u001b[0m\u001b[1;32m    361\u001b[0m                     \u001b[0mf_filt\u001b[0m\u001b[0;34m,\u001b[0m \u001b[0mcrs\u001b[0m\u001b[0;34m=\u001b[0m\u001b[0mcrs\u001b[0m\u001b[0;34m,\u001b[0m \u001b[0mcolumns\u001b[0m\u001b[0;34m=\u001b[0m\u001b[0mcolumns\u001b[0m \u001b[0;34m+\u001b[0m \u001b[0;34m[\u001b[0m\u001b[0;34m\"geometry\"\u001b[0m\u001b[0;34m]\u001b[0m\u001b[0;34m\u001b[0m\u001b[0;34m\u001b[0m\u001b[0m\n\u001b[1;32m    362\u001b[0m                 )\n",
            "\u001b[0;32m/usr/local/lib/python3.8/dist-packages/geopandas/geodataframe.py\u001b[0m in \u001b[0;36mfrom_features\u001b[0;34m(cls, features, crs, columns)\u001b[0m\n\u001b[1;32m    628\u001b[0m \u001b[0;34m\u001b[0m\u001b[0m\n\u001b[1;32m    629\u001b[0m         \u001b[0mrows\u001b[0m \u001b[0;34m=\u001b[0m \u001b[0;34m[\u001b[0m\u001b[0;34m]\u001b[0m\u001b[0;34m\u001b[0m\u001b[0;34m\u001b[0m\u001b[0m\n\u001b[0;32m--> 630\u001b[0;31m         \u001b[0;32mfor\u001b[0m \u001b[0mfeature\u001b[0m \u001b[0;32min\u001b[0m \u001b[0mfeatures_lst\u001b[0m\u001b[0;34m:\u001b[0m\u001b[0;34m\u001b[0m\u001b[0;34m\u001b[0m\u001b[0m\n\u001b[0m\u001b[1;32m    631\u001b[0m             \u001b[0;31m# load geometry\u001b[0m\u001b[0;34m\u001b[0m\u001b[0;34m\u001b[0m\u001b[0;34m\u001b[0m\u001b[0m\n\u001b[1;32m    632\u001b[0m             \u001b[0;32mif\u001b[0m \u001b[0mhasattr\u001b[0m\u001b[0;34m(\u001b[0m\u001b[0mfeature\u001b[0m\u001b[0;34m,\u001b[0m \u001b[0;34m\"__geo_interface__\"\u001b[0m\u001b[0;34m)\u001b[0m\u001b[0;34m:\u001b[0m\u001b[0;34m\u001b[0m\u001b[0;34m\u001b[0m\u001b[0m\n",
            "\u001b[0;32mfiona/ogrext.pyx\u001b[0m in \u001b[0;36mfiona.ogrext.Iterator.__next__\u001b[0;34m()\u001b[0m\n",
            "\u001b[0;32m/usr/local/lib/python3.8/dist-packages/fiona/collection.py\u001b[0m in \u001b[0;36mdriver\u001b[0;34m(self)\u001b[0m\n\u001b[1;32m    190\u001b[0m             \u001b[0;32mraise\u001b[0m \u001b[0mDriverError\u001b[0m\u001b[0;34m(\u001b[0m\u001b[0;34m\"unsupported mode: %r\"\u001b[0m \u001b[0;34m%\u001b[0m \u001b[0mself\u001b[0m\u001b[0;34m.\u001b[0m\u001b[0mmode\u001b[0m\u001b[0;34m)\u001b[0m\u001b[0;34m\u001b[0m\u001b[0;34m\u001b[0m\u001b[0m\n\u001b[1;32m    191\u001b[0m \u001b[0;34m\u001b[0m\u001b[0m\n\u001b[0;32m--> 192\u001b[0;31m     \u001b[0;34m@\u001b[0m\u001b[0mproperty\u001b[0m\u001b[0;34m\u001b[0m\u001b[0;34m\u001b[0m\u001b[0m\n\u001b[0m\u001b[1;32m    193\u001b[0m     \u001b[0;32mdef\u001b[0m \u001b[0mdriver\u001b[0m\u001b[0;34m(\u001b[0m\u001b[0mself\u001b[0m\u001b[0;34m)\u001b[0m\u001b[0;34m:\u001b[0m\u001b[0;34m\u001b[0m\u001b[0;34m\u001b[0m\u001b[0m\n\u001b[1;32m    194\u001b[0m         \u001b[0;34m\"\"\"Returns the name of the proper OGR driver.\"\"\"\u001b[0m\u001b[0;34m\u001b[0m\u001b[0;34m\u001b[0m\u001b[0m\n",
            "\u001b[0;31mKeyboardInterrupt\u001b[0m: "
          ]
        }
      ]
    },
    {
      "cell_type": "markdown",
      "source": [
        "## Landslide Hazards"
      ],
      "metadata": {
        "id": "Q5gS14AQAk11"
      }
    },
    {
      "cell_type": "code",
      "source": [
        "PATH_TO_LANDSLIDE_HAZ_DIR = Path(\"/content/drive/MyDrive/noah/Landslide/\")\n",
        "landslide_haz_dirs = [\"LandslideHazards\"]"
      ],
      "metadata": {
        "id": "iDes6tcsAo_q"
      },
      "execution_count": 43,
      "outputs": []
    },
    {
      "cell_type": "code",
      "source": [
        "map_to_city(PATH_TO_LANDSLIDE_HAZ_DIR, landslide_haz_dirs)"
      ],
      "metadata": {
        "id": "MjNl-Lo2A79W"
      },
      "execution_count": null,
      "outputs": []
    }
  ]
}