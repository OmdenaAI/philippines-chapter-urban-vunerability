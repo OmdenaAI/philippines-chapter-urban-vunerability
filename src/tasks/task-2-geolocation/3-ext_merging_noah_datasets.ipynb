{
  "cells": [
    {
      "attachments": {},
      "cell_type": "markdown",
      "metadata": {
        "id": "Fbhe5E2Qcwcb"
      },
      "source": [
        "Before running the script make sure you have added a shortcut to the [NOAH Datasets](https://drive.google.com/drive/folders/1ALE4-E9c-4AGjm1fqiPprWHrLUskeY9o?usp=share_link) into your Google Drive..."
      ]
    },
    {
      "cell_type": "code",
      "execution_count": 3,
      "metadata": {},
      "outputs": [],
      "source": [
        "# import tensorflow as tf\n",
        "\n",
        "# print(\"Num GPUs Available: \", len(tf.config.experimental.list_physical_devices('GPU')))"
      ]
    },
    {
      "cell_type": "code",
      "execution_count": 4,
      "metadata": {
        "colab": {
          "base_uri": "https://localhost:8080/"
        },
        "id": "xDwd_vdpfjLb",
        "outputId": "231f59fc-f9af-43b4-b120-11f0a7bdbc73"
      },
      "outputs": [],
      "source": [
        "# Mount data from drive\n",
        "# from google.colab import drive\n",
        "# drive.mount('/content/drive')"
      ]
    },
    {
      "cell_type": "markdown",
      "metadata": {
        "id": "MuYhbi2Ls0Ik"
      },
      "source": [
        "*Making a copy of NOAH dataset on Google Drive.* First, `cd` into the NOAH dataset shortcut by running the cell below. The path to it might differ for you but in my case I added it into my GDrive's root folder. \n",
        "\n",
        "The format for the command is: \n",
        "\n",
        "\n",
        "```\n",
        "%cd /path/to/NOAH/shortcut\n",
        "```\n",
        "\n",
        "Upon running, it should show the exact path to the symbolic link. Copy it! Mine looks like this: \n",
        "\n",
        "`/content/drive/.shortcut-targets-by-id/1ALE4-E9c-4AGjm1fqiPprWHrLUskeY9o/NOAH Downloads`"
      ]
    },
    {
      "cell_type": "code",
      "execution_count": 5,
      "metadata": {
        "colab": {
          "base_uri": "https://localhost:8080/"
        },
        "id": "8a8jbB2aeiLG",
        "outputId": "e6354b19-d1f9-452b-bff1-196bec90102f"
      },
      "outputs": [],
      "source": [
        "#%cd /content/drive/MyDrive/NOAH Downloads"
      ]
    },
    {
      "cell_type": "markdown",
      "metadata": {
        "id": "oKNuAsk-hBdM"
      },
      "source": [
        "Next, create a new folder in your Google Drive where we will copy the contents of the NOAH dataset to. Mine is in the path: \n",
        "\n",
        "`/content/drive/MyDrive/noah`\n",
        "\n",
        "(I don't use Colab that much so I don't mind cluttering up my root folder lol)"
      ]
    },
    {
      "cell_type": "markdown",
      "metadata": {
        "id": "8WAr1rBDdY8M"
      },
      "source": [
        "Run the cell below to copy from the shortcut into your desired destination folder. This has to be done because files inside shortcuts are read-only. \n",
        "\n",
        "`cp -r '/sym/link/path/.' 'path/to/desired/directory'`"
      ]
    },
    {
      "cell_type": "code",
      "execution_count": 6,
      "metadata": {
        "id": "bzaoVm5Je1GL"
      },
      "outputs": [],
      "source": [
        "#%cp -r '/content/drive/.shortcut-targets-by-id/1ALE4-E9c-4AGjm1fqiPprWHrLUskeY9o/NOAH Downloads/.' '/content/drive/MyDrive/noah'"
      ]
    },
    {
      "cell_type": "markdown",
      "metadata": {
        "id": "Ax6ZWfvXh0ld"
      },
      "source": [
        "Lastly, under your desired category, copy the contents of the ph_cities_v2 folder from our repo. \n",
        "\n",
        "The path in the repo is this: \n",
        "\n",
        "`philippines-chapter-urban-vunerability/src/data/geolocation/ph_cities_joined_v2/`\n"
      ]
    },
    {
      "cell_type": "code",
      "execution_count": 1,
      "metadata": {
        "id": "Z6yJJtPhbvb6"
      },
      "outputs": [
        {
          "ename": "ModuleNotFoundError",
          "evalue": "No module named 'geopandas'",
          "output_type": "error",
          "traceback": [
            "\u001b[1;31m---------------------------------------------------------------------------\u001b[0m",
            "\u001b[1;31mModuleNotFoundError\u001b[0m                       Traceback (most recent call last)",
            "\u001b[1;32mg:\\My Drive\\Projects\\philippines-chapter-urban-vunerability\\philippines-chapter-urban-vunerability\\src\\tasks\\task-2-geolocation\\3-ext_merging_noah_datasets.ipynb Cell 10\u001b[0m in \u001b[0;36m<cell line: 5>\u001b[1;34m()\u001b[0m\n\u001b[0;32m      <a href='vscode-notebook-cell:/g%3A/My%20Drive/Projects/philippines-chapter-urban-vunerability/philippines-chapter-urban-vunerability/src/tasks/task-2-geolocation/3-ext_merging_noah_datasets.ipynb#X12sZmlsZQ%3D%3D?line=2'>3</a>\u001b[0m \u001b[39mimport\u001b[39;00m \u001b[39mnumpy\u001b[39;00m \u001b[39mas\u001b[39;00m \u001b[39mnp\u001b[39;00m\n\u001b[0;32m      <a href='vscode-notebook-cell:/g%3A/My%20Drive/Projects/philippines-chapter-urban-vunerability/philippines-chapter-urban-vunerability/src/tasks/task-2-geolocation/3-ext_merging_noah_datasets.ipynb#X12sZmlsZQ%3D%3D?line=3'>4</a>\u001b[0m \u001b[39mimport\u001b[39;00m \u001b[39mshutil\u001b[39;00m\n\u001b[1;32m----> <a href='vscode-notebook-cell:/g%3A/My%20Drive/Projects/philippines-chapter-urban-vunerability/philippines-chapter-urban-vunerability/src/tasks/task-2-geolocation/3-ext_merging_noah_datasets.ipynb#X12sZmlsZQ%3D%3D?line=4'>5</a>\u001b[0m \u001b[39mimport\u001b[39;00m \u001b[39mgeopandas\u001b[39;00m \u001b[39mas\u001b[39;00m \u001b[39mgpd\u001b[39;00m\n\u001b[0;32m      <a href='vscode-notebook-cell:/g%3A/My%20Drive/Projects/philippines-chapter-urban-vunerability/philippines-chapter-urban-vunerability/src/tasks/task-2-geolocation/3-ext_merging_noah_datasets.ipynb#X12sZmlsZQ%3D%3D?line=5'>6</a>\u001b[0m \u001b[39mimport\u001b[39;00m \u001b[39mos\u001b[39;00m\n\u001b[0;32m      <a href='vscode-notebook-cell:/g%3A/My%20Drive/Projects/philippines-chapter-urban-vunerability/philippines-chapter-urban-vunerability/src/tasks/task-2-geolocation/3-ext_merging_noah_datasets.ipynb#X12sZmlsZQ%3D%3D?line=6'>7</a>\u001b[0m \u001b[39mimport\u001b[39;00m \u001b[39mzipfile\u001b[39;00m\n",
            "\u001b[1;31mModuleNotFoundError\u001b[0m: No module named 'geopandas'"
          ]
        }
      ],
      "source": [
        "import pandas as pd\n",
        "from pathlib import Path\n",
        "import numpy as np\n",
        "import shutil\n",
        "import geopandas as gpd\n",
        "import os\n",
        "import zipfile"
      ]
    },
    {
      "cell_type": "markdown",
      "metadata": {
        "id": "c_01k-8Wc6Yr"
      },
      "source": [
        "## Helper functions"
      ]
    },
    {
      "cell_type": "code",
      "execution_count": 8,
      "metadata": {
        "id": "fFSTwcZz3ybT"
      },
      "outputs": [],
      "source": [
        "def unzip_path(path):\n",
        "  zipfile.ZipFile(path).extractall(temp_folder)"
      ]
    },
    {
      "cell_type": "code",
      "execution_count": 9,
      "metadata": {
        "id": "ruYYN7VU4l5N"
      },
      "outputs": [],
      "source": [
        "def delete_zip_folder():\n",
        "  for filename in os.listdir(temp_folder):\n",
        "    file_path = os.path.join(temp_folder, filename)\n",
        "    try:\n",
        "        if os.path.isfile(file_path) or os.path.islink(file_path):\n",
        "            os.unlink(file_path)\n",
        "        elif os.path.isdir(file_path):\n",
        "            shutil.rmtree(file_path)\n",
        "    except Exception as e:\n",
        "        print('Failed to delete %s. Reason: %s' % (file_path, e))"
      ]
    },
    {
      "cell_type": "code",
      "execution_count": 10,
      "metadata": {
        "id": "xSz7A1J47iTp"
      },
      "outputs": [],
      "source": [
        "def map_to_city(path_to_dir, dirs):\n",
        "  for dir in dirs:\n",
        "    print(f\"Merging {dir}...\")\n",
        "    path = Path(path_to_dir, dir)\n",
        "    zip_files = os.listdir(path)\n",
        "\n",
        "    for i in range(len(zip_files)):\n",
        "\n",
        "      print(f\"Progress: {i+1}/{len(zip_files)}\")\n",
        "\n",
        "      print(f\"Unzipping {zip_files[i]}...\")\n",
        "      unzip_path(Path(path, zip_files[i]))\n",
        "\n",
        "      print(f\"Reading {zip_files[i]}...\")\n",
        "      if i == 0:\n",
        "        gdf = gpd.read_file(Path(path,zip_files[i]))\n",
        "        dissolve_col = [col for col in gdf.columns if col != \"geometry\"][0]\n",
        "      else:\n",
        "        temp_gdf = gpd.read_file(Path(path,zip_files[i]))\n",
        "        gdf = pd.concat([gdf, temp_gdf])\n",
        "\n",
        "        # Dissolving in HAZ\n",
        "\n",
        "        gdf = gdf.dissolve(by=dissolve_col, aggfunc=\"sum\")\n",
        "        gdf = gdf.reset_index()\n",
        "\n",
        "      print(f\"Deleting {zip_files[i]} artifacts...\")\n",
        "      delete_zip_folder()\n",
        "      print(\"========\")\n",
        "\n",
        "    destination_dir = Path(path, f\"{dir}-merged\")\n",
        "    destination_dir.mkdir(parents=True, exist_ok=True)\n",
        "\n",
        "    gdf.to_parquet(Path(destination_dir, f\"{dir}.parquet\"))\n",
        "\n",
        "    merged = gpd.overlay(df, gdf, how='intersection').reset_index()\n",
        "    merged.to_parquet(Path(destination_dir, f\"{dir}-by-city-munic.parquet\"))"
      ]
    },
    {
      "cell_type": "code",
      "execution_count": 11,
      "metadata": {
        "id": "fcfDXJK_vPG-"
      },
      "outputs": [],
      "source": [
        "# Create temp_folder to hold unarchived zip-files\n",
        "temp_folder = Path('../../data/geolocation/temp_folder')\n",
        "temp_folder.mkdir(parents=True, exist_ok=True)"
      ]
    },
    {
      "cell_type": "code",
      "execution_count": 12,
      "metadata": {
        "id": "mU8ULvU2GC_T"
      },
      "outputs": [],
      "source": [
        "# Import city/municipality df\n",
        "# This is the path to the shp file in the\n",
        "# ph_cities_joined_v2 we pasted earlier.\n",
        "df = gpd.read_file('../../data/dti-competitive-index/2-merged/1-shape_files/complete_dataset_with_geo_data.shp')"
      ]
    },
    {
      "cell_type": "code",
      "execution_count": 24,
      "metadata": {},
      "outputs": [
        {
          "data": {
            "text/html": [
              "<div>\n",
              "<style scoped>\n",
              "    .dataframe tbody tr th:only-of-type {\n",
              "        vertical-align: middle;\n",
              "    }\n",
              "\n",
              "    .dataframe tbody tr th {\n",
              "        vertical-align: top;\n",
              "    }\n",
              "\n",
              "    .dataframe thead th {\n",
              "        text-align: right;\n",
              "    }\n",
              "</style>\n",
              "<table border=\"1\" class=\"dataframe\">\n",
              "  <thead>\n",
              "    <tr style=\"text-align: right;\">\n",
              "      <th></th>\n",
              "      <th>name</th>\n",
              "      <th>geometry</th>\n",
              "    </tr>\n",
              "  </thead>\n",
              "  <tbody>\n",
              "    <tr>\n",
              "      <th>0</th>\n",
              "      <td>Aborlan</td>\n",
              "      <td>MULTIPOLYGON (((118.57998 9.37215, 118.57976 9...</td>\n",
              "    </tr>\n",
              "  </tbody>\n",
              "</table>\n",
              "</div>"
            ],
            "text/plain": [
              "      name                                           geometry\n",
              "0  Aborlan  MULTIPOLYGON (((118.57998 9.37215, 118.57976 9..."
            ]
          },
          "execution_count": 24,
          "metadata": {},
          "output_type": "execute_result"
        }
      ],
      "source": [
        "df.head(1)"
      ]
    },
    {
      "cell_type": "code",
      "execution_count": 14,
      "metadata": {
        "id": "hL9xq4abLRKT"
      },
      "outputs": [],
      "source": [
        "keep_cols = [\"name\", \"geometry\"]\n",
        "df = df[keep_cols]"
      ]
    },
    {
      "cell_type": "code",
      "execution_count": 22,
      "metadata": {},
      "outputs": [
        {
          "data": {
            "text/html": [
              "<div>\n",
              "<style scoped>\n",
              "    .dataframe tbody tr th:only-of-type {\n",
              "        vertical-align: middle;\n",
              "    }\n",
              "\n",
              "    .dataframe tbody tr th {\n",
              "        vertical-align: top;\n",
              "    }\n",
              "\n",
              "    .dataframe thead th {\n",
              "        text-align: right;\n",
              "    }\n",
              "</style>\n",
              "<table border=\"1\" class=\"dataframe\">\n",
              "  <thead>\n",
              "    <tr style=\"text-align: right;\">\n",
              "      <th></th>\n",
              "      <th>name</th>\n",
              "      <th>geometry</th>\n",
              "    </tr>\n",
              "  </thead>\n",
              "  <tbody>\n",
              "    <tr>\n",
              "      <th>0</th>\n",
              "      <td>Aborlan</td>\n",
              "      <td>MULTIPOLYGON (((118.57998 9.37215, 118.57976 9...</td>\n",
              "    </tr>\n",
              "  </tbody>\n",
              "</table>\n",
              "</div>"
            ],
            "text/plain": [
              "      name                                           geometry\n",
              "0  Aborlan  MULTIPOLYGON (((118.57998 9.37215, 118.57976 9..."
            ]
          },
          "execution_count": 22,
          "metadata": {},
          "output_type": "execute_result"
        }
      ],
      "source": [
        "df.head(1)"
      ]
    },
    {
      "cell_type": "markdown",
      "metadata": {
        "id": "iRG0Uf6yc_km"
      },
      "source": [
        "## Storm Surge"
      ]
    },
    {
      "cell_type": "code",
      "execution_count": 16,
      "metadata": {
        "id": "4e_QY_XAxGD1"
      },
      "outputs": [],
      "source": [
        "PATH_TO_STORMSURGE_DIR = Path('G:/.shortcut-targets-by-id/1ALE4-E9c-4AGjm1fqiPprWHrLUskeY9o/NOAH Downloads/Storm Surge')\n",
        "storm_surge_advisory_dirs = [f\"StormSurgeAdvisory{i}\" for i in np.arange(1,5)]"
      ]
    },
    {
      "cell_type": "code",
      "execution_count": 17,
      "metadata": {
        "colab": {
          "base_uri": "https://localhost:8080/"
        },
        "id": "_qSrqZbBACH1",
        "outputId": "2a8a2151-15e9-4d11-ffbf-b217190ec527"
      },
      "outputs": [
        {
          "name": "stdout",
          "output_type": "stream",
          "text": [
            "Merging StormSurgeAdvisory1...\n",
            "Progress: 1/69\n",
            "Unzipping Zambales.zip...\n",
            "Reading Zambales.zip...\n",
            "Deleting Zambales.zip artifacts...\n",
            "========\n",
            "Progress: 2/69\n",
            "Unzipping CamarinesSur.zip...\n",
            "Reading CamarinesSur.zip...\n",
            "Deleting CamarinesSur.zip artifacts...\n",
            "========\n",
            "Progress: 3/69\n",
            "Unzipping Quezon.zip...\n",
            "Reading Quezon.zip...\n",
            "Deleting Quezon.zip artifacts...\n",
            "========\n",
            "Progress: 4/69\n",
            "Unzipping Aurora.zip...\n",
            "Reading Aurora.zip...\n",
            "Deleting Aurora.zip artifacts...\n",
            "========\n",
            "Progress: 5/69\n",
            "Unzipping Batanes.zip...\n",
            "Reading Batanes.zip...\n",
            "Deleting Batanes.zip artifacts...\n",
            "========\n",
            "Progress: 6/69\n",
            "Unzipping LaUnion.zip...\n",
            "Reading LaUnion.zip...\n",
            "Deleting LaUnion.zip artifacts...\n",
            "========\n",
            "Progress: 7/69\n",
            "Unzipping Batangas.zip...\n",
            "Reading Batangas.zip...\n",
            "Deleting Batangas.zip artifacts...\n",
            "========\n",
            "Progress: 8/69\n",
            "Unzipping CamarinesNorte.zip...\n",
            "Reading CamarinesNorte.zip...\n"
          ]
        },
        {
          "ename": "KeyboardInterrupt",
          "evalue": "",
          "output_type": "error",
          "traceback": [
            "\u001b[1;31m---------------------------------------------------------------------------\u001b[0m",
            "\u001b[1;31mKeyboardInterrupt\u001b[0m                         Traceback (most recent call last)",
            "\u001b[1;32mg:\\My Drive\\Projects\\philippines-chapter-urban-vunerability\\philippines-chapter-urban-vunerability\\src\\tasks\\task-2-geolocation\\3-ext_merging_noah_datasets.ipynb Cell 22\u001b[0m in \u001b[0;36m<cell line: 1>\u001b[1;34m()\u001b[0m\n\u001b[1;32m----> <a href='vscode-notebook-cell:/g%3A/My%20Drive/Projects/philippines-chapter-urban-vunerability/philippines-chapter-urban-vunerability/src/tasks/task-2-geolocation/3-ext_merging_noah_datasets.ipynb#X24sZmlsZQ%3D%3D?line=0'>1</a>\u001b[0m map_to_city(PATH_TO_STORMSURGE_DIR, storm_surge_advisory_dirs)\n",
            "\u001b[1;32mg:\\My Drive\\Projects\\philippines-chapter-urban-vunerability\\philippines-chapter-urban-vunerability\\src\\tasks\\task-2-geolocation\\3-ext_merging_noah_datasets.ipynb Cell 22\u001b[0m in \u001b[0;36mmap_to_city\u001b[1;34m(path_to_dir, dirs)\u001b[0m\n\u001b[0;32m     <a href='vscode-notebook-cell:/g%3A/My%20Drive/Projects/philippines-chapter-urban-vunerability/philippines-chapter-urban-vunerability/src/tasks/task-2-geolocation/3-ext_merging_noah_datasets.ipynb#X24sZmlsZQ%3D%3D?line=19'>20</a>\u001b[0m   gdf \u001b[39m=\u001b[39m pd\u001b[39m.\u001b[39mconcat([gdf, temp_gdf])\n\u001b[0;32m     <a href='vscode-notebook-cell:/g%3A/My%20Drive/Projects/philippines-chapter-urban-vunerability/philippines-chapter-urban-vunerability/src/tasks/task-2-geolocation/3-ext_merging_noah_datasets.ipynb#X24sZmlsZQ%3D%3D?line=21'>22</a>\u001b[0m   \u001b[39m# Dissolving in HAZ\u001b[39;00m\n\u001b[1;32m---> <a href='vscode-notebook-cell:/g%3A/My%20Drive/Projects/philippines-chapter-urban-vunerability/philippines-chapter-urban-vunerability/src/tasks/task-2-geolocation/3-ext_merging_noah_datasets.ipynb#X24sZmlsZQ%3D%3D?line=23'>24</a>\u001b[0m   gdf \u001b[39m=\u001b[39m gdf\u001b[39m.\u001b[39;49mdissolve(by\u001b[39m=\u001b[39;49mdissolve_col, aggfunc\u001b[39m=\u001b[39;49m\u001b[39m\"\u001b[39;49m\u001b[39msum\u001b[39;49m\u001b[39m\"\u001b[39;49m)\n\u001b[0;32m     <a href='vscode-notebook-cell:/g%3A/My%20Drive/Projects/philippines-chapter-urban-vunerability/philippines-chapter-urban-vunerability/src/tasks/task-2-geolocation/3-ext_merging_noah_datasets.ipynb#X24sZmlsZQ%3D%3D?line=24'>25</a>\u001b[0m   gdf \u001b[39m=\u001b[39m gdf\u001b[39m.\u001b[39mreset_index()\n\u001b[0;32m     <a href='vscode-notebook-cell:/g%3A/My%20Drive/Projects/philippines-chapter-urban-vunerability/philippines-chapter-urban-vunerability/src/tasks/task-2-geolocation/3-ext_merging_noah_datasets.ipynb#X24sZmlsZQ%3D%3D?line=26'>27</a>\u001b[0m \u001b[39mprint\u001b[39m(\u001b[39mf\u001b[39m\u001b[39m\"\u001b[39m\u001b[39mDeleting \u001b[39m\u001b[39m{\u001b[39;00mzip_files[i]\u001b[39m}\u001b[39;00m\u001b[39m artifacts...\u001b[39m\u001b[39m\"\u001b[39m)\n",
            "File \u001b[1;32mc:\\Users\\kmedr\\anaconda3\\envs\\sa_geo\\lib\\site-packages\\geopandas\\geodataframe.py:1684\u001b[0m, in \u001b[0;36mGeoDataFrame.dissolve\u001b[1;34m(self, by, aggfunc, as_index, level, sort, observed, dropna)\u001b[0m\n\u001b[0;32m   1681\u001b[0m     merged_geom \u001b[39m=\u001b[39m block\u001b[39m.\u001b[39munary_union\n\u001b[0;32m   1682\u001b[0m     \u001b[39mreturn\u001b[39;00m merged_geom\n\u001b[1;32m-> 1684\u001b[0m g \u001b[39m=\u001b[39m \u001b[39mself\u001b[39;49m\u001b[39m.\u001b[39;49mgroupby(group_keys\u001b[39m=\u001b[39;49m\u001b[39mFalse\u001b[39;49;00m, \u001b[39m*\u001b[39;49m\u001b[39m*\u001b[39;49mgroupby_kwargs)[\u001b[39mself\u001b[39;49m\u001b[39m.\u001b[39;49mgeometry\u001b[39m.\u001b[39;49mname]\u001b[39m.\u001b[39;49magg(\n\u001b[0;32m   1685\u001b[0m     merge_geometries\n\u001b[0;32m   1686\u001b[0m )\n\u001b[0;32m   1688\u001b[0m \u001b[39m# Aggregate\u001b[39;00m\n\u001b[0;32m   1689\u001b[0m aggregated_geometry \u001b[39m=\u001b[39m GeoDataFrame(g, geometry\u001b[39m=\u001b[39m\u001b[39mself\u001b[39m\u001b[39m.\u001b[39mgeometry\u001b[39m.\u001b[39mname, crs\u001b[39m=\u001b[39m\u001b[39mself\u001b[39m\u001b[39m.\u001b[39mcrs)\n",
            "File \u001b[1;32mc:\\Users\\kmedr\\anaconda3\\envs\\sa_geo\\lib\\site-packages\\pandas\\core\\groupby\\generic.py:297\u001b[0m, in \u001b[0;36mSeriesGroupBy.aggregate\u001b[1;34m(self, func, engine, engine_kwargs, *args, **kwargs)\u001b[0m\n\u001b[0;32m    294\u001b[0m     \u001b[39mreturn\u001b[39;00m \u001b[39mself\u001b[39m\u001b[39m.\u001b[39m_python_agg_general(func, \u001b[39m*\u001b[39margs, \u001b[39m*\u001b[39m\u001b[39m*\u001b[39mkwargs)\n\u001b[0;32m    296\u001b[0m \u001b[39mtry\u001b[39;00m:\n\u001b[1;32m--> 297\u001b[0m     \u001b[39mreturn\u001b[39;00m \u001b[39mself\u001b[39m\u001b[39m.\u001b[39m_python_agg_general(func, \u001b[39m*\u001b[39margs, \u001b[39m*\u001b[39m\u001b[39m*\u001b[39mkwargs)\n\u001b[0;32m    298\u001b[0m \u001b[39mexcept\u001b[39;00m \u001b[39mKeyError\u001b[39;00m:\n\u001b[0;32m    299\u001b[0m     \u001b[39m# TODO: KeyError is raised in _python_agg_general,\u001b[39;00m\n\u001b[0;32m    300\u001b[0m     \u001b[39m#  see test_groupby.test_basic\u001b[39;00m\n\u001b[0;32m    301\u001b[0m     result \u001b[39m=\u001b[39m \u001b[39mself\u001b[39m\u001b[39m.\u001b[39m_aggregate_named(func, \u001b[39m*\u001b[39margs, \u001b[39m*\u001b[39m\u001b[39m*\u001b[39mkwargs)\n",
            "File \u001b[1;32mc:\\Users\\kmedr\\anaconda3\\envs\\sa_geo\\lib\\site-packages\\pandas\\core\\groupby\\groupby.py:1654\u001b[0m, in \u001b[0;36mGroupBy._python_agg_general\u001b[1;34m(self, func, raise_on_typeerror, *args, **kwargs)\u001b[0m\n\u001b[0;32m   1650\u001b[0m name \u001b[39m=\u001b[39m obj\u001b[39m.\u001b[39mname\n\u001b[0;32m   1652\u001b[0m \u001b[39mtry\u001b[39;00m:\n\u001b[0;32m   1653\u001b[0m     \u001b[39m# if this function is invalid for this dtype, we will ignore it.\u001b[39;00m\n\u001b[1;32m-> 1654\u001b[0m     result \u001b[39m=\u001b[39m \u001b[39mself\u001b[39;49m\u001b[39m.\u001b[39;49mgrouper\u001b[39m.\u001b[39;49magg_series(obj, f)\n\u001b[0;32m   1655\u001b[0m \u001b[39mexcept\u001b[39;00m \u001b[39mTypeError\u001b[39;00m:\n\u001b[0;32m   1656\u001b[0m     \u001b[39mif\u001b[39;00m raise_on_typeerror:\n",
            "File \u001b[1;32mc:\\Users\\kmedr\\anaconda3\\envs\\sa_geo\\lib\\site-packages\\pandas\\core\\groupby\\ops.py:1072\u001b[0m, in \u001b[0;36mBaseGrouper.agg_series\u001b[1;34m(self, obj, func, preserve_dtype)\u001b[0m\n\u001b[0;32m   1069\u001b[0m     result \u001b[39m=\u001b[39m \u001b[39mself\u001b[39m\u001b[39m.\u001b[39m_aggregate_series_pure_python(obj, func)\n\u001b[0;32m   1071\u001b[0m \u001b[39melif\u001b[39;00m \u001b[39mnot\u001b[39;00m \u001b[39misinstance\u001b[39m(obj\u001b[39m.\u001b[39m_values, np\u001b[39m.\u001b[39mndarray):\n\u001b[1;32m-> 1072\u001b[0m     result \u001b[39m=\u001b[39m \u001b[39mself\u001b[39;49m\u001b[39m.\u001b[39;49m_aggregate_series_pure_python(obj, func)\n\u001b[0;32m   1074\u001b[0m     \u001b[39m# we can preserve a little bit more aggressively with EA dtype\u001b[39;00m\n\u001b[0;32m   1075\u001b[0m     \u001b[39m#  because maybe_cast_pointwise_result will do a try/except\u001b[39;00m\n\u001b[0;32m   1076\u001b[0m     \u001b[39m#  with _from_sequence.  NB we are assuming here that _from_sequence\u001b[39;00m\n\u001b[0;32m   1077\u001b[0m     \u001b[39m#  is sufficiently strict that it casts appropriately.\u001b[39;00m\n\u001b[0;32m   1078\u001b[0m     preserve_dtype \u001b[39m=\u001b[39m \u001b[39mTrue\u001b[39;00m\n",
            "File \u001b[1;32mc:\\Users\\kmedr\\anaconda3\\envs\\sa_geo\\lib\\site-packages\\pandas\\core\\groupby\\ops.py:1104\u001b[0m, in \u001b[0;36mBaseGrouper._aggregate_series_pure_python\u001b[1;34m(self, obj, func)\u001b[0m\n\u001b[0;32m   1101\u001b[0m splitter \u001b[39m=\u001b[39m get_splitter(obj, ids, ngroups, axis\u001b[39m=\u001b[39m\u001b[39m0\u001b[39m)\n\u001b[0;32m   1103\u001b[0m \u001b[39mfor\u001b[39;00m i, group \u001b[39min\u001b[39;00m \u001b[39menumerate\u001b[39m(splitter):\n\u001b[1;32m-> 1104\u001b[0m     res \u001b[39m=\u001b[39m func(group)\n\u001b[0;32m   1105\u001b[0m     res \u001b[39m=\u001b[39m libreduction\u001b[39m.\u001b[39mextract_result(res)\n\u001b[0;32m   1107\u001b[0m     \u001b[39mif\u001b[39;00m \u001b[39mnot\u001b[39;00m initialized:\n\u001b[0;32m   1108\u001b[0m         \u001b[39m# We only do this validation on the first iteration\u001b[39;00m\n",
            "File \u001b[1;32mc:\\Users\\kmedr\\anaconda3\\envs\\sa_geo\\lib\\site-packages\\pandas\\core\\groupby\\groupby.py:1640\u001b[0m, in \u001b[0;36mGroupBy._python_agg_general.<locals>.<lambda>\u001b[1;34m(x)\u001b[0m\n\u001b[0;32m   1637\u001b[0m \u001b[39m@final\u001b[39m\n\u001b[0;32m   1638\u001b[0m \u001b[39mdef\u001b[39;00m \u001b[39m_python_agg_general\u001b[39m(\u001b[39mself\u001b[39m, func, \u001b[39m*\u001b[39margs, raise_on_typeerror\u001b[39m=\u001b[39m\u001b[39mFalse\u001b[39;00m, \u001b[39m*\u001b[39m\u001b[39m*\u001b[39mkwargs):\n\u001b[0;32m   1639\u001b[0m     func \u001b[39m=\u001b[39m com\u001b[39m.\u001b[39mis_builtin_func(func)\n\u001b[1;32m-> 1640\u001b[0m     f \u001b[39m=\u001b[39m \u001b[39mlambda\u001b[39;00m x: func(x, \u001b[39m*\u001b[39margs, \u001b[39m*\u001b[39m\u001b[39m*\u001b[39mkwargs)\n\u001b[0;32m   1642\u001b[0m     \u001b[39m# iterate through \"columns\" ex exclusions to populate output dict\u001b[39;00m\n\u001b[0;32m   1643\u001b[0m     output: \u001b[39mdict\u001b[39m[base\u001b[39m.\u001b[39mOutputKey, ArrayLike] \u001b[39m=\u001b[39m {}\n",
            "File \u001b[1;32mc:\\Users\\kmedr\\anaconda3\\envs\\sa_geo\\lib\\site-packages\\geopandas\\geodataframe.py:1681\u001b[0m, in \u001b[0;36mGeoDataFrame.dissolve.<locals>.merge_geometries\u001b[1;34m(block)\u001b[0m\n\u001b[0;32m   1680\u001b[0m \u001b[39mdef\u001b[39;00m \u001b[39mmerge_geometries\u001b[39m(block):\n\u001b[1;32m-> 1681\u001b[0m     merged_geom \u001b[39m=\u001b[39m block\u001b[39m.\u001b[39;49munary_union\n\u001b[0;32m   1682\u001b[0m     \u001b[39mreturn\u001b[39;00m merged_geom\n",
            "File \u001b[1;32mc:\\Users\\kmedr\\anaconda3\\envs\\sa_geo\\lib\\site-packages\\geopandas\\base.py:800\u001b[0m, in \u001b[0;36mGeoPandasBase.unary_union\u001b[1;34m(self)\u001b[0m\n\u001b[0;32m    781\u001b[0m \u001b[39m@property\u001b[39m\n\u001b[0;32m    782\u001b[0m \u001b[39mdef\u001b[39;00m \u001b[39munary_union\u001b[39m(\u001b[39mself\u001b[39m):\n\u001b[0;32m    783\u001b[0m     \u001b[39m\"\"\"Returns a geometry containing the union of all geometries in the\u001b[39;00m\n\u001b[0;32m    784\u001b[0m \u001b[39m    ``GeoSeries``.\u001b[39;00m\n\u001b[0;32m    785\u001b[0m \n\u001b[1;32m   (...)\u001b[0m\n\u001b[0;32m    798\u001b[0m \u001b[39m    POLYGON ((0 1, 0 2, 2 2, 2 0, 1 0, 0 0, 0 1))\u001b[39;00m\n\u001b[0;32m    799\u001b[0m \u001b[39m    \"\"\"\u001b[39;00m\n\u001b[1;32m--> 800\u001b[0m     \u001b[39mreturn\u001b[39;00m \u001b[39mself\u001b[39;49m\u001b[39m.\u001b[39;49mgeometry\u001b[39m.\u001b[39;49mvalues\u001b[39m.\u001b[39;49munary_union()\n",
            "File \u001b[1;32mc:\\Users\\kmedr\\anaconda3\\envs\\sa_geo\\lib\\site-packages\\geopandas\\array.py:650\u001b[0m, in \u001b[0;36mGeometryArray.unary_union\u001b[1;34m(self)\u001b[0m\n\u001b[0;32m    649\u001b[0m \u001b[39mdef\u001b[39;00m \u001b[39munary_union\u001b[39m(\u001b[39mself\u001b[39m):\n\u001b[1;32m--> 650\u001b[0m     \u001b[39mreturn\u001b[39;00m vectorized\u001b[39m.\u001b[39;49munary_union(\u001b[39mself\u001b[39;49m\u001b[39m.\u001b[39;49mdata)\n",
            "File \u001b[1;32mc:\\Users\\kmedr\\anaconda3\\envs\\sa_geo\\lib\\site-packages\\geopandas\\_vectorized.py:1034\u001b[0m, in \u001b[0;36munary_union\u001b[1;34m(data)\u001b[0m\n\u001b[0;32m   1032\u001b[0m data \u001b[39m=\u001b[39m [g \u001b[39mfor\u001b[39;00m g \u001b[39min\u001b[39;00m data \u001b[39mif\u001b[39;00m g \u001b[39mis\u001b[39;00m \u001b[39mnot\u001b[39;00m \u001b[39mNone\u001b[39;00m]\n\u001b[0;32m   1033\u001b[0m \u001b[39mif\u001b[39;00m data:\n\u001b[1;32m-> 1034\u001b[0m     \u001b[39mreturn\u001b[39;00m shapely\u001b[39m.\u001b[39;49mops\u001b[39m.\u001b[39;49munary_union(data)\n\u001b[0;32m   1035\u001b[0m \u001b[39melse\u001b[39;00m:\n\u001b[0;32m   1036\u001b[0m     \u001b[39mreturn\u001b[39;00m \u001b[39mNone\u001b[39;00m\n",
            "File \u001b[1;32mc:\\Users\\kmedr\\anaconda3\\envs\\sa_geo\\lib\\site-packages\\shapely\\ops.py:161\u001b[0m, in \u001b[0;36mCollectionOperator.unary_union\u001b[1;34m(self, geoms)\u001b[0m\n\u001b[0;32m    159\u001b[0m     subs[i] \u001b[39m=\u001b[39m g\u001b[39m.\u001b[39m_geom\n\u001b[0;32m    160\u001b[0m collection \u001b[39m=\u001b[39m lgeos\u001b[39m.\u001b[39mGEOSGeom_createCollection(\u001b[39m6\u001b[39m, subs, L)\n\u001b[1;32m--> 161\u001b[0m \u001b[39mreturn\u001b[39;00m geom_factory(lgeos\u001b[39m.\u001b[39;49mmethods[\u001b[39m'\u001b[39;49m\u001b[39munary_union\u001b[39;49m\u001b[39m'\u001b[39;49m](collection))\n",
            "\u001b[1;31mKeyboardInterrupt\u001b[0m: "
          ]
        }
      ],
      "source": [
        "map_to_city(PATH_TO_STORMSURGE_DIR, storm_surge_advisory_dirs)"
      ]
    },
    {
      "cell_type": "markdown",
      "metadata": {
        "id": "HywLf_72APuN"
      },
      "source": [
        "## Flood"
      ]
    },
    {
      "cell_type": "code",
      "execution_count": 35,
      "metadata": {
        "id": "N5ShLLyMAUA6"
      },
      "outputs": [],
      "source": [
        "PATH_TO_FLOOD_DIR = Path('G:/.shortcut-targets-by-id/1ALE4-E9c-4AGjm1fqiPprWHrLUskeY9o/NOAH Downloads/Flood/')\n",
        "flood_dirs = [\"5yr\", \"25yr\", \"100yr\"]"
      ]
    },
    {
      "cell_type": "code",
      "execution_count": 36,
      "metadata": {
        "colab": {
          "base_uri": "https://localhost:8080/",
          "height": 494
        },
        "id": "5Qa3d3nRAhE6",
        "outputId": "88895068-0e5a-49a9-a252-d7e570d733b3"
      },
      "outputs": [
        {
          "name": "stdout",
          "output_type": "stream",
          "text": [
            "Merging 5yr...\n",
            "Progress: 1/66\n",
            "Unzipping IlocosNorte.zip...\n",
            "Reading IlocosNorte.zip...\n",
            "Deleting IlocosNorte.zip artifacts...\n",
            "========\n",
            "Progress: 2/66\n",
            "Unzipping LaUnion.zip...\n",
            "Reading LaUnion.zip...\n"
          ]
        }
      ],
      "source": [
        "map_to_city(PATH_TO_FLOOD_DIR, flood_dirs)"
      ]
    },
    {
      "cell_type": "markdown",
      "metadata": {
        "id": "Q5gS14AQAk11"
      },
      "source": [
        "## Landslide Hazards"
      ]
    },
    {
      "cell_type": "code",
      "execution_count": 11,
      "metadata": {
        "id": "iDes6tcsAo_q"
      },
      "outputs": [],
      "source": [
        "PATH_TO_LANDSLIDE_HAZ_DIR = Path('G:/.shortcut-targets-by-id/1ALE4-E9c-4AGjm1fqiPprWHrLUskeY9o/NOAH Downloads/Landslide')\n",
        "landslide_haz_dirs = [\"LandslideHazards\"]"
      ]
    },
    {
      "cell_type": "code",
      "execution_count": 12,
      "metadata": {
        "id": "MjNl-Lo2A79W"
      },
      "outputs": [
        {
          "name": "stdout",
          "output_type": "stream",
          "text": [
            "Merging LandslideHazards...\n",
            "Progress: 1/82\n",
            "Unzipping IlocosNorte.zip...\n",
            "Reading IlocosNorte.zip...\n",
            "Deleting IlocosNorte.zip artifacts...\n",
            "========\n",
            "Progress: 2/82\n",
            "Unzipping Pangasinan.zip...\n",
            "Reading Pangasinan.zip...\n"
          ]
        }
      ],
      "source": [
        "map_to_city(PATH_TO_LANDSLIDE_HAZ_DIR, landslide_haz_dirs)"
      ]
    }
  ],
  "metadata": {
    "accelerator": "GPU",
    "colab": {
      "provenance": []
    },
    "gpuClass": "standard",
    "kernelspec": {
      "display_name": "sa_model",
      "language": "python",
      "name": "python3"
    },
    "language_info": {
      "codemirror_mode": {
        "name": "ipython",
        "version": 3
      },
      "file_extension": ".py",
      "mimetype": "text/x-python",
      "name": "python",
      "nbconvert_exporter": "python",
      "pygments_lexer": "ipython3",
      "version": "3.10.8"
    },
    "vscode": {
      "interpreter": {
        "hash": "1fb697aed0cdf4479a5f9274921a9b9121b9e5e08d7dcb25a916d9ac5d728a2b"
      }
    }
  },
  "nbformat": 4,
  "nbformat_minor": 0
}
