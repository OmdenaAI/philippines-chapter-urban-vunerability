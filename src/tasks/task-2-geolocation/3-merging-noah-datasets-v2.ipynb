{
  "nbformat": 4,
  "nbformat_minor": 0,
  "metadata": {
    "colab": {
      "provenance": []
    },
    "kernelspec": {
      "name": "python3",
      "display_name": "Python 3"
    },
    "language_info": {
      "name": "python"
    }
  },
  "cells": [
    {
      "cell_type": "markdown",
      "source": [
        "Before running the script make sure you have added a shortcut to the [NOAH Datasets and other necessary files](https://drive.google.com/drive/folders/1D3_MvpM0yinyvBR0VR9XVI2Es3GejevR?usp=sharing) into your Google Drive...\n",
        "\n",
        "*Making a copy of NOAH dataset on Google Drive.* First, `cd` into the NOAH dataset shortcut by running the cell below. The path to it might differ for you but in my case I added it into my GDrive's root folder. \n",
        "\n",
        "The format for the command is: \n",
        "\n",
        "\n",
        "```\n",
        "%cd /path/to/NOAH/shortcut\n",
        "```\n",
        "\n",
        "Upon running, it should show the exact path to the symbolic link. Copy it! Mine looks like this: \n",
        "\n",
        "`/content/drive/.shortcut-targets-by-id/1ALE4-E9c-4AGjm1fqiPprWHrLUskeY9o/NOAH Downloads`"
      ],
      "metadata": {
        "id": "QR7S6qxktm3I"
      }
    },
    {
      "cell_type": "code",
      "source": [
        "#%cd /content/drive/MyDrive/NOAH Downloads"
      ],
      "metadata": {
        "id": "9PGrQ7x1t7Jm"
      },
      "execution_count": 316,
      "outputs": []
    },
    {
      "cell_type": "markdown",
      "source": [
        "Run the cell below to copy from the shortcut into your desired destination folder. This has to be done because files inside shortcuts are read-only. \n",
        "\n",
        "`cp -r '/sym/link/path/.' 'path/to/desired/directory'`"
      ],
      "metadata": {
        "id": "rFVNymT-t_wu"
      }
    },
    {
      "cell_type": "markdown",
      "source": [
        "-------"
      ],
      "metadata": {
        "id": "DMEs5yaduF7c"
      }
    },
    {
      "cell_type": "code",
      "source": [
        "# !pip install -r /content/drive/MyDrive/noah/requirements.txt"
      ],
      "metadata": {
        "id": "XfEzxcW9KmI4"
      },
      "execution_count": 317,
      "outputs": []
    },
    {
      "cell_type": "code",
      "execution_count": 3,
      "metadata": {
        "colab": {
          "base_uri": "https://localhost:8080/"
        },
        "id": "ox-4MiihKDPp",
        "outputId": "21349230-44a9-49ab-9733-f851f75cbdcc"
      },
      "outputs": [
        {
          "output_type": "stream",
          "name": "stdout",
          "text": [
            "Drive already mounted at /content/drive; to attempt to forcibly remount, call drive.mount(\"/content/drive\", force_remount=True).\n"
          ]
        }
      ],
      "source": [
        "# Mount data from drive\n",
        "from google.colab import drive\n",
        "drive.mount('/content/drive')"
      ]
    },
    {
      "cell_type": "code",
      "source": [
        "import pandas as pd\n",
        "from pathlib import Path\n",
        "import numpy as np\n",
        "import shutil\n",
        "import geopandas as gp\n",
        "import os\n",
        "from zipfile import ZipFile\n",
        "from fiona.io import ZipMemoryFile\n",
        "import requests"
      ],
      "metadata": {
        "id": "_Y1vMa-5KTIp"
      },
      "execution_count": 4,
      "outputs": []
    },
    {
      "cell_type": "markdown",
      "source": [
        "### Set config variables"
      ],
      "metadata": {
        "id": "Dd9nEwdfMU0E"
      }
    },
    {
      "cell_type": "code",
      "source": [
        "PATH_TO_NB = \"/content/drive/MyDrive/noah/3-merging-noah-datasets.ipynb\" # Change this\n",
        "\n",
        "WORKINGDIR = Path(PATH_TO_NB)\n",
        "PROJECTROOT = WORKINGDIR.parents[0]\n",
        "\n",
        "CITY_SHPFILE = Path(PROJECTROOT, \"shp-assets\", \"ph-cities-shp-files\", \"ph_cities_v2.shp\")\n",
        "CALAMITY_SHPFILE_DIR = Path(PROJECTROOT, \"shp-assets\", \"noah-shp-files\")\n",
        "\n",
        "TMP_FOLDER = Path(PROJECTROOT, \"tmp-folder\")\n",
        "VAR_HOLDER = Path(PROJECTROOT, \"var-holder\")\n",
        "DATASETS_DIR = Path(PROJECTROOT, \"output-datasets\")"
      ],
      "metadata": {
        "id": "io0U6Id0MX3t"
      },
      "execution_count": 5,
      "outputs": []
    },
    {
      "cell_type": "markdown",
      "source": [
        "### Helper functions"
      ],
      "metadata": {
        "id": "ABxDW76lL8bD"
      }
    },
    {
      "cell_type": "code",
      "source": [
        "def unzip_path(zip):\n",
        "  ZipFile(zip).extractall(TMP_FOLDER)"
      ],
      "metadata": {
        "id": "tqV8pdC9L-G3"
      },
      "execution_count": 6,
      "outputs": []
    },
    {
      "cell_type": "code",
      "source": [
        "def delete_zip_folder():\n",
        "  for filename in os.listdir(TMP_FOLDER):\n",
        "    file_path = os.path.join(TMP_FOLDER, filename)\n",
        "    try:\n",
        "        if os.path.isfile(file_path) or os.path.islink(file_path):\n",
        "            os.unlink(file_path)\n",
        "        elif os.path.isdir(file_path):\n",
        "            shutil.rmtree(file_path)\n",
        "    except Exception as e:\n",
        "        print('Failed to delete %s. Reason: %s' % (file_path, e))"
      ],
      "metadata": {
        "id": "tmytELBTMLQL"
      },
      "execution_count": 7,
      "outputs": []
    },
    {
      "cell_type": "code",
      "source": [
        "def dissolve_and_reset(gdf):\n",
        "  gdf = gdf.copy()\n",
        "\n",
        "  dissolve_col = [col for col in projected_gdf.columns if col not in ['index', 'name', 'geometry']][0]\n",
        "\n",
        "  gdf = gdf.dissolve([\"name\", dissolve_col])\n",
        "  gdf = gdf.reset_index()\n",
        "\n",
        "  return gdf"
      ],
      "metadata": {
        "id": "YmFh0bbIr2Mw"
      },
      "execution_count": 31,
      "outputs": []
    },
    {
      "cell_type": "code",
      "source": [
        "def read_progress(path):\n",
        "  try: \n",
        "    with open(path) as f:\n",
        "      content = f.readline()\n",
        "      return int(content)\n",
        "  except FileNotFoundError:\n",
        "    write_progress(path, '0')\n",
        "    return 0"
      ],
      "metadata": {
        "id": "Gq7kgn2jZnrT"
      },
      "execution_count": 9,
      "outputs": []
    },
    {
      "cell_type": "code",
      "source": [
        "def write_progress(path, progress):\n",
        "  with open(path, 'w') as f:\n",
        "    f.write(progress)"
      ],
      "metadata": {
        "id": "lH6RC-2ba-5c"
      },
      "execution_count": 10,
      "outputs": []
    },
    {
      "cell_type": "code",
      "source": [
        "def map_to_city(path_to_dir, dir):\n",
        "  print(f\"Merging {dir}...\")\n",
        "  path = Path(path_to_dir, dir)\n",
        "\n",
        "  zip_files = [file for file in os.listdir(path) if \".zip\" in file]\n",
        "  \n",
        "  progress_var_path = Path(VAR_HOLDER, f\"{dir}-progress.txt\")\n",
        "\n",
        "  progress = read_progress(progress_var_path)\n",
        "\n",
        "  if len(zip_files)!=1:\n",
        "    if progress == len(zip_files)-1:\n",
        "      print(\"This directory has been merged!\")\n",
        "      return None\n",
        "\n",
        "  for i in np.arange(progress, len(zip_files)): \n",
        "\n",
        "    zip_path = Path(path, zip_files[i])\n",
        "\n",
        "    print(f\"Progress: {i+1}/{len(zip_files)}\")\n",
        "\n",
        "    print(f\"Unzipping {zip_files[i]}...\")\n",
        "\n",
        "    unzip_path(zip_path)\n",
        "\n",
        "    print(f\"Reading {zip_files[i]}...\")\n",
        "\n",
        "    gdf = gp.read_file(Path(path,zip_files[i]))\n",
        "\n",
        "    if i == 0:\n",
        "      print(f\"Mapping to cities: {zip_files[i]}...\")\n",
        "      projected_df = gp.overlay(df, gdf, how=\"intersection\").reset_index()\n",
        "    else:\n",
        "      print(f\"Mapping to cities: {zip_files[i]}...\")\n",
        "      tmp_projected_df = gp.overlay(df, gdf, how=\"intersection\").reset_index()\n",
        "      \n",
        "      print(f\"Reading existing projected geodataframe...\")\n",
        "      projected_df = gp.read_parquet(Path(DATASETS_DIR, f\"{dir}-projected.parquet\"))\n",
        "      projected_df = pd.concat([projected_df, tmp_projected_df])\n",
        "\n",
        "    print(f\"Dropping duplicates from output dataframe...\")\n",
        "    projected_df.drop_duplicates(inplace=True)\n",
        "\n",
        "    print(f\"Persisting output dataframe...\")\n",
        "    projected_df.to_parquet(Path(DATASETS_DIR, f\"{dir}-projected.parquet\"))\n",
        "\n",
        "    print(f\"Deleting {zip_files[i]} artifacts...\")\n",
        "    delete_zip_folder()\n",
        "    print(\"========\")\n",
        "\n",
        "    write_progress(Path(VAR_HOLDER, f\"{dir}-progress.txt\"), str(i))"
      ],
      "metadata": {
        "id": "iz_m7dF1XysS"
      },
      "execution_count": 21,
      "outputs": []
    },
    {
      "cell_type": "markdown",
      "source": [
        "### Import ph-cities-shpfile"
      ],
      "metadata": {
        "id": "bDPXL51COnm6"
      }
    },
    {
      "cell_type": "code",
      "source": [
        "df = gp.read_file(CITY_SHPFILE)\n",
        "df.head()"
      ],
      "metadata": {
        "colab": {
          "base_uri": "https://localhost:8080/",
          "height": 574
        },
        "id": "QJDWvgQQOsMD",
        "outputId": "2f17889d-4b10-4187-d993-4ff43a466db8"
      },
      "execution_count": 12,
      "outputs": [
        {
          "output_type": "execute_result",
          "data": {
            "text/plain": [
              "         psgc          name    city_munic            province  \\\n",
              "0  1705301000       Aborlan       Aborlan             Palawan   \n",
              "1  1705101000  Abra De Ilog  Abra De Ilog  Occidental Mindoro   \n",
              "2   300801000        Abucay        Abucay              Bataan   \n",
              "3   201501000        Abulug        Abulug             Cagayan   \n",
              "4   803701000        Abuyog        Abuyog               Leyte   \n",
              "\n",
              "                       clean_idx   longitude   latitude  \\\n",
              "0               aborlan, palawan  118.548417   9.437101   \n",
              "1  abradeilog, occidentalmindoro  120.726826  13.443721   \n",
              "2                 abucay, bataan  120.534870  14.721315   \n",
              "3                abulug, cagayan  121.457273  18.443485   \n",
              "4                  abuyog, leyte  125.011485  10.747102   \n",
              "\n",
              "                    coords                                           geometry  \n",
              "0   9.4371009, 118.5484168  MULTIPOLYGON (((118.57998 9.37215, 118.57982 9...  \n",
              "1  13.4437209, 120.7268262  POLYGON ((120.60896 13.35233, 120.60797 13.373...  \n",
              "2  14.7213146, 120.5348704  POLYGON ((120.45676 14.69671, 120.45620 14.696...  \n",
              "3  18.4434854, 121.4572732  MULTIPOLYGON (((121.40276 18.40896, 121.40276 ...  \n",
              "4   10.747102, 125.0114853  POLYGON ((125.04650 10.56751, 125.04588 10.576...  "
            ],
            "text/html": [
              "\n",
              "  <div id=\"df-84f04bcb-5f7c-4970-a338-1ee9ef3d87ce\">\n",
              "    <div class=\"colab-df-container\">\n",
              "      <div>\n",
              "<style scoped>\n",
              "    .dataframe tbody tr th:only-of-type {\n",
              "        vertical-align: middle;\n",
              "    }\n",
              "\n",
              "    .dataframe tbody tr th {\n",
              "        vertical-align: top;\n",
              "    }\n",
              "\n",
              "    .dataframe thead th {\n",
              "        text-align: right;\n",
              "    }\n",
              "</style>\n",
              "<table border=\"1\" class=\"dataframe\">\n",
              "  <thead>\n",
              "    <tr style=\"text-align: right;\">\n",
              "      <th></th>\n",
              "      <th>psgc</th>\n",
              "      <th>name</th>\n",
              "      <th>city_munic</th>\n",
              "      <th>province</th>\n",
              "      <th>clean_idx</th>\n",
              "      <th>longitude</th>\n",
              "      <th>latitude</th>\n",
              "      <th>coords</th>\n",
              "      <th>geometry</th>\n",
              "    </tr>\n",
              "  </thead>\n",
              "  <tbody>\n",
              "    <tr>\n",
              "      <th>0</th>\n",
              "      <td>1705301000</td>\n",
              "      <td>Aborlan</td>\n",
              "      <td>Aborlan</td>\n",
              "      <td>Palawan</td>\n",
              "      <td>aborlan, palawan</td>\n",
              "      <td>118.548417</td>\n",
              "      <td>9.437101</td>\n",
              "      <td>9.4371009, 118.5484168</td>\n",
              "      <td>MULTIPOLYGON (((118.57998 9.37215, 118.57982 9...</td>\n",
              "    </tr>\n",
              "    <tr>\n",
              "      <th>1</th>\n",
              "      <td>1705101000</td>\n",
              "      <td>Abra De Ilog</td>\n",
              "      <td>Abra De Ilog</td>\n",
              "      <td>Occidental Mindoro</td>\n",
              "      <td>abradeilog, occidentalmindoro</td>\n",
              "      <td>120.726826</td>\n",
              "      <td>13.443721</td>\n",
              "      <td>13.4437209, 120.7268262</td>\n",
              "      <td>POLYGON ((120.60896 13.35233, 120.60797 13.373...</td>\n",
              "    </tr>\n",
              "    <tr>\n",
              "      <th>2</th>\n",
              "      <td>300801000</td>\n",
              "      <td>Abucay</td>\n",
              "      <td>Abucay</td>\n",
              "      <td>Bataan</td>\n",
              "      <td>abucay, bataan</td>\n",
              "      <td>120.534870</td>\n",
              "      <td>14.721315</td>\n",
              "      <td>14.7213146, 120.5348704</td>\n",
              "      <td>POLYGON ((120.45676 14.69671, 120.45620 14.696...</td>\n",
              "    </tr>\n",
              "    <tr>\n",
              "      <th>3</th>\n",
              "      <td>201501000</td>\n",
              "      <td>Abulug</td>\n",
              "      <td>Abulug</td>\n",
              "      <td>Cagayan</td>\n",
              "      <td>abulug, cagayan</td>\n",
              "      <td>121.457273</td>\n",
              "      <td>18.443485</td>\n",
              "      <td>18.4434854, 121.4572732</td>\n",
              "      <td>MULTIPOLYGON (((121.40276 18.40896, 121.40276 ...</td>\n",
              "    </tr>\n",
              "    <tr>\n",
              "      <th>4</th>\n",
              "      <td>803701000</td>\n",
              "      <td>Abuyog</td>\n",
              "      <td>Abuyog</td>\n",
              "      <td>Leyte</td>\n",
              "      <td>abuyog, leyte</td>\n",
              "      <td>125.011485</td>\n",
              "      <td>10.747102</td>\n",
              "      <td>10.747102, 125.0114853</td>\n",
              "      <td>POLYGON ((125.04650 10.56751, 125.04588 10.576...</td>\n",
              "    </tr>\n",
              "  </tbody>\n",
              "</table>\n",
              "</div>\n",
              "      <button class=\"colab-df-convert\" onclick=\"convertToInteractive('df-84f04bcb-5f7c-4970-a338-1ee9ef3d87ce')\"\n",
              "              title=\"Convert this dataframe to an interactive table.\"\n",
              "              style=\"display:none;\">\n",
              "        \n",
              "  <svg xmlns=\"http://www.w3.org/2000/svg\" height=\"24px\"viewBox=\"0 0 24 24\"\n",
              "       width=\"24px\">\n",
              "    <path d=\"M0 0h24v24H0V0z\" fill=\"none\"/>\n",
              "    <path d=\"M18.56 5.44l.94 2.06.94-2.06 2.06-.94-2.06-.94-.94-2.06-.94 2.06-2.06.94zm-11 1L8.5 8.5l.94-2.06 2.06-.94-2.06-.94L8.5 2.5l-.94 2.06-2.06.94zm10 10l.94 2.06.94-2.06 2.06-.94-2.06-.94-.94-2.06-.94 2.06-2.06.94z\"/><path d=\"M17.41 7.96l-1.37-1.37c-.4-.4-.92-.59-1.43-.59-.52 0-1.04.2-1.43.59L10.3 9.45l-7.72 7.72c-.78.78-.78 2.05 0 2.83L4 21.41c.39.39.9.59 1.41.59.51 0 1.02-.2 1.41-.59l7.78-7.78 2.81-2.81c.8-.78.8-2.07 0-2.86zM5.41 20L4 18.59l7.72-7.72 1.47 1.35L5.41 20z\"/>\n",
              "  </svg>\n",
              "      </button>\n",
              "      \n",
              "  <style>\n",
              "    .colab-df-container {\n",
              "      display:flex;\n",
              "      flex-wrap:wrap;\n",
              "      gap: 12px;\n",
              "    }\n",
              "\n",
              "    .colab-df-convert {\n",
              "      background-color: #E8F0FE;\n",
              "      border: none;\n",
              "      border-radius: 50%;\n",
              "      cursor: pointer;\n",
              "      display: none;\n",
              "      fill: #1967D2;\n",
              "      height: 32px;\n",
              "      padding: 0 0 0 0;\n",
              "      width: 32px;\n",
              "    }\n",
              "\n",
              "    .colab-df-convert:hover {\n",
              "      background-color: #E2EBFA;\n",
              "      box-shadow: 0px 1px 2px rgba(60, 64, 67, 0.3), 0px 1px 3px 1px rgba(60, 64, 67, 0.15);\n",
              "      fill: #174EA6;\n",
              "    }\n",
              "\n",
              "    [theme=dark] .colab-df-convert {\n",
              "      background-color: #3B4455;\n",
              "      fill: #D2E3FC;\n",
              "    }\n",
              "\n",
              "    [theme=dark] .colab-df-convert:hover {\n",
              "      background-color: #434B5C;\n",
              "      box-shadow: 0px 1px 3px 1px rgba(0, 0, 0, 0.15);\n",
              "      filter: drop-shadow(0px 1px 2px rgba(0, 0, 0, 0.3));\n",
              "      fill: #FFFFFF;\n",
              "    }\n",
              "  </style>\n",
              "\n",
              "      <script>\n",
              "        const buttonEl =\n",
              "          document.querySelector('#df-84f04bcb-5f7c-4970-a338-1ee9ef3d87ce button.colab-df-convert');\n",
              "        buttonEl.style.display =\n",
              "          google.colab.kernel.accessAllowed ? 'block' : 'none';\n",
              "\n",
              "        async function convertToInteractive(key) {\n",
              "          const element = document.querySelector('#df-84f04bcb-5f7c-4970-a338-1ee9ef3d87ce');\n",
              "          const dataTable =\n",
              "            await google.colab.kernel.invokeFunction('convertToInteractive',\n",
              "                                                     [key], {});\n",
              "          if (!dataTable) return;\n",
              "\n",
              "          const docLinkHtml = 'Like what you see? Visit the ' +\n",
              "            '<a target=\"_blank\" href=https://colab.research.google.com/notebooks/data_table.ipynb>data table notebook</a>'\n",
              "            + ' to learn more about interactive tables.';\n",
              "          element.innerHTML = '';\n",
              "          dataTable['output_type'] = 'display_data';\n",
              "          await google.colab.output.renderOutput(dataTable, element);\n",
              "          const docLink = document.createElement('div');\n",
              "          docLink.innerHTML = docLinkHtml;\n",
              "          element.appendChild(docLink);\n",
              "        }\n",
              "      </script>\n",
              "    </div>\n",
              "  </div>\n",
              "  "
            ]
          },
          "metadata": {},
          "execution_count": 12
        }
      ]
    },
    {
      "cell_type": "code",
      "source": [
        "keep_cols = [\"name\", \"geometry\"]\n",
        "df = df[keep_cols]"
      ],
      "metadata": {
        "id": "YarAKWhgPZee"
      },
      "execution_count": 13,
      "outputs": []
    },
    {
      "cell_type": "markdown",
      "source": [
        "### Storm Surge"
      ],
      "metadata": {
        "id": "uCz355vedUMV"
      }
    },
    {
      "cell_type": "code",
      "source": [
        "PATH_TO_STORMSURGE_DIR = Path(CALAMITY_SHPFILE_DIR, \"Storm Surge\")"
      ],
      "metadata": {
        "id": "zZzTf5vxdVPk"
      },
      "execution_count": 329,
      "outputs": []
    },
    {
      "cell_type": "markdown",
      "source": [
        "------"
      ],
      "metadata": {
        "id": "9Mkndxv5sfF8"
      }
    },
    {
      "cell_type": "code",
      "source": [
        "# dir = \"StormSurgeAdvisory1\""
      ],
      "metadata": {
        "id": "ONv1aE92sKsG"
      },
      "execution_count": 330,
      "outputs": []
    },
    {
      "cell_type": "code",
      "source": [
        "# map_to_city(PATH_TO_STORMSURGE_DIR, dir)"
      ],
      "metadata": {
        "id": "qBn5vTJddl1q"
      },
      "execution_count": 331,
      "outputs": []
    },
    {
      "cell_type": "code",
      "source": [
        "# projected_gdf = gp.read_parquet(Path(DATASETS_DIR, f\"{dir}-projected.parquet\"))"
      ],
      "metadata": {
        "id": "_SBXa3Jodr-I"
      },
      "execution_count": 332,
      "outputs": []
    },
    {
      "cell_type": "code",
      "source": [
        "# projected_gdf = dissolve_and_reset(projected_gdf)"
      ],
      "metadata": {
        "id": "Z1-lAtC_rw85"
      },
      "execution_count": 333,
      "outputs": []
    },
    {
      "cell_type": "code",
      "source": [
        "# projected_gdf.to_parquet(Path(DATASETS_DIR, f\"{dir}-projected.parquet\"))"
      ],
      "metadata": {
        "id": "1NaYWHgspvwE"
      },
      "execution_count": 334,
      "outputs": []
    },
    {
      "cell_type": "markdown",
      "source": [
        "------"
      ],
      "metadata": {
        "id": "hCHSPDjssqHH"
      }
    },
    {
      "cell_type": "code",
      "source": [
        "dir = \"StormSurgeAdvisory2\""
      ],
      "metadata": {
        "id": "WZiBPOQPsqHI"
      },
      "execution_count": 335,
      "outputs": []
    },
    {
      "cell_type": "code",
      "source": [
        "map_to_city(PATH_TO_STORMSURGE_DIR, dir)"
      ],
      "metadata": {
        "colab": {
          "base_uri": "https://localhost:8080/"
        },
        "outputId": "f12e2515-e600-48e9-a120-8fdcd70860a3",
        "id": "VaO0eWxGsqHJ"
      },
      "execution_count": 336,
      "outputs": [
        {
          "output_type": "stream",
          "name": "stdout",
          "text": [
            "Merging StormSurgeAdvisory2...\n",
            "Progress: 52/68\n",
            "Unzipping MisamisOriental.zip...\n",
            "Reading MisamisOriental.zip...\n",
            "Deleting MisamisOriental.zip artifacts...\n",
            "========\n",
            "Progress: 53/68\n",
            "Unzipping DavaoOriental.zip...\n",
            "Reading DavaoOriental.zip...\n",
            "Deleting DavaoOriental.zip artifacts...\n",
            "========\n",
            "Progress: 54/68\n",
            "Unzipping DavaoDelSur.zip...\n",
            "Reading DavaoDelSur.zip...\n",
            "Deleting DavaoDelSur.zip artifacts...\n",
            "========\n",
            "Progress: 55/68\n",
            "Unzipping LanaoDelSur.zip...\n",
            "Reading LanaoDelSur.zip...\n",
            "Deleting LanaoDelSur.zip artifacts...\n",
            "========\n",
            "Progress: 56/68\n",
            "Unzipping SurigaoDelNorte.zip...\n",
            "Reading SurigaoDelNorte.zip...\n",
            "Deleting SurigaoDelNorte.zip artifacts...\n",
            "========\n",
            "Progress: 57/68\n",
            "Unzipping Sulu.zip...\n",
            "Reading Sulu.zip...\n",
            "Deleting Sulu.zip artifacts...\n",
            "========\n",
            "Progress: 58/68\n",
            "Unzipping SurigaoDelSur.zip...\n",
            "Reading SurigaoDelSur.zip...\n",
            "Deleting SurigaoDelSur.zip artifacts...\n",
            "========\n",
            "Progress: 59/68\n",
            "Unzipping TawiTawi.zip...\n",
            "Reading TawiTawi.zip...\n",
            "Deleting TawiTawi.zip artifacts...\n",
            "========\n",
            "Progress: 60/68\n",
            "Unzipping AgusanDelNorte.zip...\n",
            "Reading AgusanDelNorte.zip...\n",
            "Deleting AgusanDelNorte.zip artifacts...\n",
            "========\n",
            "Progress: 61/68\n",
            "Unzipping OrientalMindoro.zip...\n",
            "Reading OrientalMindoro.zip...\n",
            "Deleting OrientalMindoro.zip artifacts...\n",
            "========\n",
            "Progress: 62/68\n",
            "Unzipping OccidentalMindoro.zip...\n",
            "Reading OccidentalMindoro.zip...\n",
            "Deleting OccidentalMindoro.zip artifacts...\n",
            "========\n",
            "Progress: 63/68\n",
            "Unzipping DinagatIslands.zip...\n",
            "Reading DinagatIslands.zip...\n",
            "Deleting DinagatIslands.zip artifacts...\n",
            "========\n",
            "Progress: 64/68\n",
            "Unzipping Marinduque.zip...\n",
            "Reading Marinduque.zip...\n",
            "Deleting Marinduque.zip artifacts...\n",
            "========\n",
            "Progress: 65/68\n",
            "Unzipping Palawan.zip...\n",
            "Reading Palawan.zip...\n",
            "Deleting Palawan.zip artifacts...\n",
            "========\n",
            "Progress: 66/68\n",
            "Unzipping NegrosOccidental.zip...\n",
            "Reading NegrosOccidental.zip...\n",
            "Deleting NegrosOccidental.zip artifacts...\n",
            "========\n",
            "Progress: 67/68\n",
            "Unzipping Romblon.zip...\n",
            "Reading Romblon.zip...\n",
            "Deleting Romblon.zip artifacts...\n",
            "========\n",
            "Progress: 68/68\n",
            "Unzipping NegrosOriental.zip...\n",
            "Reading NegrosOriental.zip...\n",
            "Deleting NegrosOriental.zip artifacts...\n",
            "========\n"
          ]
        }
      ]
    },
    {
      "cell_type": "code",
      "source": [
        "projected_gdf = gp.read_parquet(Path(DATASETS_DIR, f\"{dir}-projected.parquet\"))"
      ],
      "metadata": {
        "id": "o9RBj5IQsqHJ"
      },
      "execution_count": 337,
      "outputs": []
    },
    {
      "cell_type": "code",
      "source": [
        "projected_gdf = dissolve_and_reset(projected_gdf)"
      ],
      "metadata": {
        "id": "AvjqD6tysqHJ"
      },
      "execution_count": 338,
      "outputs": []
    },
    {
      "cell_type": "code",
      "source": [
        "projected_gdf.to_parquet(Path(DATASETS_DIR, f\"{dir}-projected.parquet\"))"
      ],
      "metadata": {
        "id": "Lyv9JC7asqHK"
      },
      "execution_count": 339,
      "outputs": []
    },
    {
      "cell_type": "markdown",
      "source": [
        "------"
      ],
      "metadata": {
        "id": "H0ABqkpqs_c1"
      }
    },
    {
      "cell_type": "code",
      "source": [
        "dir = \"StormSurgeAdvisory3\""
      ],
      "metadata": {
        "id": "GUaouybXs_c2"
      },
      "execution_count": 340,
      "outputs": []
    },
    {
      "cell_type": "code",
      "source": [
        "map_to_city(PATH_TO_STORMSURGE_DIR, dir)"
      ],
      "metadata": {
        "colab": {
          "base_uri": "https://localhost:8080/"
        },
        "outputId": "0ae55f7f-8deb-418e-e96c-4a0180ca5c28",
        "id": "Y-ZWizLbs_c3"
      },
      "execution_count": null,
      "outputs": [
        {
          "output_type": "stream",
          "name": "stdout",
          "text": [
            "Merging StormSurgeAdvisory3...\n",
            "Progress: 1/68\n",
            "Unzipping IlocosSur.zip...\n",
            "Reading IlocosSur.zip...\n",
            "Deleting IlocosSur.zip artifacts...\n",
            "========\n",
            "Progress: 2/68\n",
            "Unzipping LaUnion.zip...\n",
            "Reading LaUnion.zip...\n",
            "Deleting LaUnion.zip artifacts...\n",
            "========\n",
            "Progress: 3/68\n",
            "Unzipping Cagayan.zip...\n",
            "Reading Cagayan.zip...\n",
            "Deleting Cagayan.zip artifacts...\n",
            "========\n",
            "Progress: 4/68\n",
            "Unzipping Aurora.zip...\n",
            "Reading Aurora.zip...\n",
            "Deleting Aurora.zip artifacts...\n",
            "========\n",
            "Progress: 5/68\n",
            "Unzipping Cavite.zip...\n",
            "Reading Cavite.zip...\n",
            "Deleting Cavite.zip artifacts...\n",
            "========\n",
            "Progress: 6/68\n",
            "Unzipping Batanes.zip...\n",
            "Reading Batanes.zip...\n",
            "Deleting Batanes.zip artifacts...\n",
            "========\n",
            "Progress: 7/68\n",
            "Unzipping Pampanga.zip...\n",
            "Reading Pampanga.zip...\n",
            "Deleting Pampanga.zip artifacts...\n",
            "========\n",
            "Progress: 8/68\n",
            "Unzipping Pangasinan.zip...\n",
            "Reading Pangasinan.zip...\n",
            "Deleting Pangasinan.zip artifacts...\n",
            "========\n",
            "Progress: 9/68\n",
            "Unzipping Zambales.zip...\n",
            "Reading Zambales.zip...\n",
            "Deleting Zambales.zip artifacts...\n",
            "========\n",
            "Progress: 10/68\n",
            "Unzipping Bulacan.zip...\n",
            "Reading Bulacan.zip...\n",
            "Deleting Bulacan.zip artifacts...\n",
            "========\n",
            "Progress: 11/68\n",
            "Unzipping IlocosNorte.zip...\n",
            "Reading IlocosNorte.zip...\n",
            "Deleting IlocosNorte.zip artifacts...\n",
            "========\n",
            "Progress: 12/68\n",
            "Unzipping Bataan.zip...\n",
            "Reading Bataan.zip...\n",
            "Deleting Bataan.zip artifacts...\n",
            "========\n",
            "Progress: 13/68\n",
            "Unzipping Isabela.zip...\n",
            "Reading Isabela.zip...\n",
            "Deleting Isabela.zip artifacts...\n",
            "========\n",
            "Progress: 14/68\n",
            "Unzipping Batangas.zip...\n",
            "Reading Batangas.zip...\n",
            "Deleting Batangas.zip artifacts...\n",
            "========\n",
            "Progress: 15/68\n",
            "Unzipping CamarinesNorte.zip...\n",
            "Reading CamarinesNorte.zip...\n",
            "Deleting CamarinesNorte.zip artifacts...\n",
            "========\n",
            "Progress: 16/68\n",
            "Unzipping Quezon.zip...\n",
            "Reading Quezon.zip...\n",
            "Deleting Quezon.zip artifacts...\n",
            "========\n",
            "Progress: 17/68\n",
            "Unzipping Masbate.zip...\n",
            "Reading Masbate.zip...\n",
            "Deleting Masbate.zip artifacts...\n",
            "========\n",
            "Progress: 18/68\n",
            "Unzipping Capiz.zip...\n",
            "Reading Capiz.zip...\n",
            "Deleting Capiz.zip artifacts...\n",
            "========\n",
            "Progress: 19/68\n",
            "Unzipping Albay.zip...\n",
            "Reading Albay.zip...\n",
            "Deleting Albay.zip artifacts...\n",
            "========\n",
            "Progress: 20/68\n",
            "Unzipping Guimaras.zip...\n",
            "Reading Guimaras.zip...\n",
            "Deleting Guimaras.zip artifacts...\n",
            "========\n",
            "Progress: 21/68\n",
            "Unzipping Catanduanes.zip...\n",
            "Reading Catanduanes.zip...\n",
            "Deleting Catanduanes.zip artifacts...\n",
            "========\n",
            "Progress: 22/68\n",
            "Unzipping Sorsogon.zip...\n",
            "Reading Sorsogon.zip...\n",
            "Deleting Sorsogon.zip artifacts...\n",
            "========\n",
            "Progress: 23/68\n",
            "Unzipping Antique.zip...\n",
            "Reading Antique.zip...\n",
            "Deleting Antique.zip artifacts...\n",
            "========\n",
            "Progress: 24/68\n",
            "Unzipping Iloilo.zip...\n",
            "Reading Iloilo.zip...\n",
            "Deleting Iloilo.zip artifacts...\n",
            "========\n",
            "Progress: 25/68\n",
            "Unzipping CamarinesSur.zip...\n",
            "Reading CamarinesSur.zip...\n",
            "Deleting CamarinesSur.zip artifacts...\n",
            "========\n",
            "Progress: 26/68\n",
            "Unzipping Bohol.zip...\n",
            "Reading Bohol.zip...\n",
            "Deleting Bohol.zip artifacts...\n",
            "========\n",
            "Progress: 27/68\n",
            "Unzipping Aklan.zip...\n",
            "Reading Aklan.zip...\n",
            "Deleting Aklan.zip artifacts...\n",
            "========\n",
            "Progress: 28/68\n",
            "Unzipping SouthernLeyte.zip...\n",
            "Reading SouthernLeyte.zip...\n",
            "Deleting SouthernLeyte.zip artifacts...\n",
            "========\n",
            "Progress: 29/68\n",
            "Unzipping Biliran.zip...\n",
            "Reading Biliran.zip...\n",
            "Deleting Biliran.zip artifacts...\n",
            "========\n",
            "Progress: 30/68\n",
            "Unzipping Leyte.zip...\n",
            "Reading Leyte.zip...\n",
            "Deleting Leyte.zip artifacts...\n",
            "========\n",
            "Progress: 31/68\n",
            "Unzipping Samar.zip...\n",
            "Reading Samar.zip...\n",
            "Deleting Samar.zip artifacts...\n",
            "========\n",
            "Progress: 32/68\n",
            "Unzipping ZamboangaSibugay.zip...\n",
            "Reading ZamboangaSibugay.zip...\n",
            "Deleting ZamboangaSibugay.zip artifacts...\n",
            "========\n",
            "Progress: 33/68\n",
            "Unzipping ZamboangaDelSur.zip...\n",
            "Reading ZamboangaDelSur.zip...\n",
            "Deleting ZamboangaDelSur.zip artifacts...\n",
            "========\n",
            "Progress: 34/68\n",
            "Unzipping ZamboangaDelNorte.zip...\n",
            "Reading ZamboangaDelNorte.zip...\n",
            "Deleting ZamboangaDelNorte.zip artifacts...\n",
            "========\n",
            "Progress: 35/68\n",
            "Unzipping Cebu.zip...\n",
            "Reading Cebu.zip...\n",
            "Deleting Cebu.zip artifacts...\n",
            "========\n",
            "Progress: 36/68\n",
            "Unzipping Siquijor.zip...\n",
            "Reading Siquijor.zip...\n",
            "Deleting Siquijor.zip artifacts...\n",
            "========\n",
            "Progress: 37/68\n",
            "Unzipping NorthernSamar.zip...\n",
            "Reading NorthernSamar.zip...\n",
            "Deleting NorthernSamar.zip artifacts...\n",
            "========\n",
            "Progress: 38/68\n",
            "Unzipping Camiguin.zip...\n",
            "Reading Camiguin.zip...\n",
            "Deleting Camiguin.zip artifacts...\n",
            "========\n",
            "Progress: 39/68\n",
            "Unzipping MisamisOccidental.zip...\n",
            "Reading MisamisOccidental.zip...\n",
            "Deleting MisamisOccidental.zip artifacts...\n",
            "========\n",
            "Progress: 40/68\n",
            "Unzipping LanaoDelNorte.zip...\n",
            "Reading LanaoDelNorte.zip...\n",
            "Deleting LanaoDelNorte.zip artifacts...\n",
            "========\n",
            "Progress: 41/68\n",
            "Unzipping EasternSamar.zip...\n",
            "Reading EasternSamar.zip...\n",
            "Deleting EasternSamar.zip artifacts...\n",
            "========\n",
            "Progress: 42/68\n",
            "Unzipping MisamisOriental.zip...\n",
            "Reading MisamisOriental.zip...\n",
            "Deleting MisamisOriental.zip artifacts...\n",
            "========\n",
            "Progress: 43/68\n",
            "Unzipping Maguindanao.zip...\n",
            "Reading Maguindanao.zip...\n",
            "Deleting Maguindanao.zip artifacts...\n",
            "========\n",
            "Progress: 44/68\n",
            "Unzipping Sulu.zip...\n",
            "Reading Sulu.zip...\n",
            "Deleting Sulu.zip artifacts...\n",
            "========\n",
            "Progress: 45/68\n",
            "Unzipping AgusanDelNorte.zip...\n",
            "Reading AgusanDelNorte.zip...\n",
            "Deleting AgusanDelNorte.zip artifacts...\n",
            "========\n",
            "Progress: 46/68\n",
            "Unzipping MetroManila.zip...\n",
            "Reading MetroManila.zip...\n",
            "Deleting MetroManila.zip artifacts...\n",
            "========\n",
            "Progress: 47/68\n",
            "Unzipping DavaoOccidental.zip...\n",
            "Reading DavaoOccidental.zip...\n",
            "Deleting DavaoOccidental.zip artifacts...\n",
            "========\n",
            "Progress: 48/68\n",
            "Unzipping Basilan.zip...\n",
            "Reading Basilan.zip...\n",
            "Deleting Basilan.zip artifacts...\n",
            "========\n",
            "Progress: 49/68\n",
            "Unzipping DavaoOriental.zip...\n",
            "Reading DavaoOriental.zip...\n",
            "Deleting DavaoOriental.zip artifacts...\n",
            "========\n",
            "Progress: 50/68\n",
            "Unzipping SurigaoDelNorte.zip...\n",
            "Reading SurigaoDelNorte.zip...\n",
            "Deleting SurigaoDelNorte.zip artifacts...\n",
            "========\n",
            "Progress: 51/68\n",
            "Unzipping SultanKudarat.zip...\n",
            "Reading SultanKudarat.zip...\n",
            "Deleting SultanKudarat.zip artifacts...\n",
            "========\n",
            "Progress: 52/68\n",
            "Unzipping DavaoDelNorte.zip...\n",
            "Reading DavaoDelNorte.zip...\n",
            "Deleting DavaoDelNorte.zip artifacts...\n",
            "========\n",
            "Progress: 53/68\n",
            "Unzipping Sarangani.zip...\n",
            "Reading Sarangani.zip...\n",
            "Deleting Sarangani.zip artifacts...\n",
            "========\n",
            "Progress: 54/68\n",
            "Unzipping CompostelaValley.zip...\n",
            "Reading CompostelaValley.zip...\n",
            "Deleting CompostelaValley.zip artifacts...\n",
            "========\n",
            "Progress: 55/68\n",
            "Unzipping DavaoDelSur.zip...\n",
            "Reading DavaoDelSur.zip...\n",
            "Deleting DavaoDelSur.zip artifacts...\n",
            "========\n",
            "Progress: 56/68\n",
            "Unzipping LanaoDelSur.zip...\n",
            "Reading LanaoDelSur.zip...\n",
            "Deleting LanaoDelSur.zip artifacts...\n",
            "========\n",
            "Progress: 57/68\n",
            "Unzipping SouthCotabato.zip...\n",
            "Reading SouthCotabato.zip...\n",
            "Deleting SouthCotabato.zip artifacts...\n",
            "========\n",
            "Progress: 58/68\n",
            "Unzipping Cotabato.zip...\n",
            "Reading Cotabato.zip...\n",
            "Deleting Cotabato.zip artifacts...\n",
            "========\n",
            "Progress: 59/68\n",
            "Unzipping TawiTawi.zip...\n",
            "Reading TawiTawi.zip...\n",
            "Deleting TawiTawi.zip artifacts...\n",
            "========\n",
            "Progress: 60/68\n",
            "Unzipping SurigaoDelSur.zip...\n",
            "Reading SurigaoDelSur.zip...\n",
            "Deleting SurigaoDelSur.zip artifacts...\n",
            "========\n",
            "Progress: 61/68\n",
            "Unzipping Romblon.zip...\n",
            "Reading Romblon.zip...\n",
            "Deleting Romblon.zip artifacts...\n",
            "========\n",
            "Progress: 62/68\n",
            "Unzipping Palawan.zip...\n",
            "Reading Palawan.zip...\n"
          ]
        }
      ]
    },
    {
      "cell_type": "code",
      "source": [
        "projected_gdf = gp.read_parquet(Path(DATASETS_DIR, f\"{dir}-projected.parquet\"))"
      ],
      "metadata": {
        "id": "esz0e4U0s_c3"
      },
      "execution_count": null,
      "outputs": []
    },
    {
      "cell_type": "code",
      "source": [
        "projected_gdf = dissolve_and_reset(projected_gdf)"
      ],
      "metadata": {
        "id": "gYUcdcq0s_c4"
      },
      "execution_count": null,
      "outputs": []
    },
    {
      "cell_type": "code",
      "source": [
        "projected_gdf.to_parquet(Path(DATASETS_DIR, f\"{dir}-projected.parquet\"))"
      ],
      "metadata": {
        "id": "nQEjtLUEs_c4"
      },
      "execution_count": null,
      "outputs": []
    },
    {
      "cell_type": "markdown",
      "source": [
        "------"
      ],
      "metadata": {
        "id": "KuUMW0qUtFS4"
      }
    },
    {
      "cell_type": "code",
      "source": [
        "dir = \"StormSurgeAdvisory4\""
      ],
      "metadata": {
        "id": "FuDV8QZPtFS5"
      },
      "execution_count": null,
      "outputs": []
    },
    {
      "cell_type": "code",
      "source": [
        "map_to_city(PATH_TO_STORMSURGE_DIR, dir)"
      ],
      "metadata": {
        "id": "ksiet9E6tFS6"
      },
      "execution_count": null,
      "outputs": []
    },
    {
      "cell_type": "code",
      "source": [
        "projected_gdf = gp.read_parquet(Path(DATASETS_DIR, f\"{dir}-projected.parquet\"))"
      ],
      "metadata": {
        "id": "eVDaYq_-tFS6"
      },
      "execution_count": null,
      "outputs": []
    },
    {
      "cell_type": "code",
      "source": [
        "projected_gdf = dissolve_and_reset(projected_gdf)"
      ],
      "metadata": {
        "id": "SVEIM1C7tFS7"
      },
      "execution_count": null,
      "outputs": []
    },
    {
      "cell_type": "code",
      "source": [
        "projected_gdf.to_parquet(Path(DATASETS_DIR, f\"{dir}-projected.parquet\"))"
      ],
      "metadata": {
        "id": "iLyB1wp5tFS7"
      },
      "execution_count": null,
      "outputs": []
    },
    {
      "cell_type": "markdown",
      "source": [
        "### Flood"
      ],
      "metadata": {
        "id": "63Gug57azZ9k"
      }
    },
    {
      "cell_type": "code",
      "source": [
        "PATH_TO_FLOOD_DIR = Path(CALAMITY_SHPFILE_DIR, \"Flood\")"
      ],
      "metadata": {
        "id": "I2F42gozz6Po"
      },
      "execution_count": 15,
      "outputs": []
    },
    {
      "cell_type": "code",
      "source": [
        "dir = \"flood-100yr\""
      ],
      "metadata": {
        "id": "9aoXIvnfzds-"
      },
      "execution_count": 16,
      "outputs": []
    },
    {
      "cell_type": "code",
      "source": [
        "map_to_city(PATH_TO_FLOOD_DIR, dir)"
      ],
      "metadata": {
        "colab": {
          "base_uri": "https://localhost:8080/"
        },
        "id": "coevKTW9zr9N",
        "outputId": "53633c12-707f-4c49-9e68-6357aa74c2e9"
      },
      "execution_count": null,
      "outputs": [
        {
          "output_type": "stream",
          "name": "stdout",
          "text": [
            "Merging flood-100yr...\n",
            "Progress: 1/79\n",
            "Unzipping IlocosSur.zip...\n",
            "Reading IlocosSur.zip...\n",
            "Mapping to cities: IlocosSur.zip...\n"
          ]
        }
      ]
    },
    {
      "cell_type": "code",
      "source": [
        "projected_gdf = gp.read_parquet(Path(DATASETS_DIR, f\"{dir}-projected.parquet\"))"
      ],
      "metadata": {
        "id": "28C65dMkzs-B"
      },
      "execution_count": null,
      "outputs": []
    },
    {
      "cell_type": "code",
      "source": [
        "projected_gdf = dissolve_and_reset(projected_gdf)"
      ],
      "metadata": {
        "id": "bf9npZpAzt4g"
      },
      "execution_count": null,
      "outputs": []
    },
    {
      "cell_type": "code",
      "source": [
        "projected_gdf.to_parquet(Path(DATASETS_DIR, f\"{dir}-projected.parquet\"))"
      ],
      "metadata": {
        "id": "9MdmXSOezuyv"
      },
      "execution_count": null,
      "outputs": []
    },
    {
      "cell_type": "markdown",
      "source": [
        "--------"
      ],
      "metadata": {
        "id": "B1l9WsWHzyVD"
      }
    },
    {
      "cell_type": "code",
      "source": [
        "dir = \"flood-25yr\""
      ],
      "metadata": {
        "id": "R6wz-EIWzwt6"
      },
      "execution_count": null,
      "outputs": []
    },
    {
      "cell_type": "code",
      "source": [
        "map_to_city(PATH_TO_FLOOD_DIR, dir)"
      ],
      "metadata": {
        "id": "mnCo5uYwzwt8"
      },
      "execution_count": null,
      "outputs": []
    },
    {
      "cell_type": "code",
      "source": [
        "projected_gdf = gp.read_parquet(Path(DATASETS_DIR, f\"{dir}-projected.parquet\"))"
      ],
      "metadata": {
        "id": "YTI1ppSkzwt9"
      },
      "execution_count": null,
      "outputs": []
    },
    {
      "cell_type": "code",
      "source": [
        "projected_gdf = dissolve_and_reset(projected_gdf)"
      ],
      "metadata": {
        "id": "Nl_ryKiBzwt9"
      },
      "execution_count": null,
      "outputs": []
    },
    {
      "cell_type": "code",
      "source": [
        "projected_gdf.to_parquet(Path(DATASETS_DIR, f\"{dir}-projected.parquet\"))"
      ],
      "metadata": {
        "id": "5vUp1L55zwt-"
      },
      "execution_count": null,
      "outputs": []
    },
    {
      "cell_type": "markdown",
      "source": [
        "------------"
      ],
      "metadata": {
        "id": "N-ztaOAPzzmO"
      }
    },
    {
      "cell_type": "code",
      "source": [
        "dir = \"flood-5yr\""
      ],
      "metadata": {
        "id": "doPlOF2Jz2RH"
      },
      "execution_count": null,
      "outputs": []
    },
    {
      "cell_type": "code",
      "source": [
        "map_to_city(PATH_TO_FLOOD_DIR, dir)"
      ],
      "metadata": {
        "id": "KtlOvhslz2RI"
      },
      "execution_count": null,
      "outputs": []
    },
    {
      "cell_type": "code",
      "source": [
        "projected_gdf = gp.read_parquet(Path(DATASETS_DIR, f\"{dir}-projected.parquet\"))"
      ],
      "metadata": {
        "id": "yjvr5argz2RJ"
      },
      "execution_count": null,
      "outputs": []
    },
    {
      "cell_type": "code",
      "source": [
        "projected_gdf = dissolve_and_reset(projected_gdf)"
      ],
      "metadata": {
        "id": "XJi6f7Biz2RJ"
      },
      "execution_count": null,
      "outputs": []
    },
    {
      "cell_type": "code",
      "source": [
        "projected_gdf.to_parquet(Path(DATASETS_DIR, f\"{dir}-projected.parquet\"))"
      ],
      "metadata": {
        "id": "8YYOcL00z2RJ"
      },
      "execution_count": null,
      "outputs": []
    },
    {
      "cell_type": "markdown",
      "source": [
        "------------"
      ],
      "metadata": {
        "id": "28chc3Uez2RK"
      }
    },
    {
      "cell_type": "markdown",
      "source": [
        "### Landslide - Landslide Hazards"
      ],
      "metadata": {
        "id": "h8ejlUzI0Nz-"
      }
    },
    {
      "cell_type": "code",
      "source": [
        "PATH_TO_DEBRIS_FLOW = Path(CALAMITY_SHPFILE_DIR, \"Landslide\")"
      ],
      "metadata": {
        "id": "OA01FmgZ0TWE"
      },
      "execution_count": null,
      "outputs": []
    },
    {
      "cell_type": "code",
      "source": [
        "dir = \"LandslideHazards\""
      ],
      "metadata": {
        "id": "9-ON-PtI0zMX"
      },
      "execution_count": null,
      "outputs": []
    },
    {
      "cell_type": "code",
      "source": [
        "map_to_city(PATH_TO_DEBRIS_FLOW, dir)"
      ],
      "metadata": {
        "id": "1T06NSWJ02OY"
      },
      "execution_count": null,
      "outputs": []
    },
    {
      "cell_type": "code",
      "source": [
        "projected_gdf = gp.read_parquet(Path(DATASETS_DIR, f\"{dir}-projected.parquet\"))"
      ],
      "metadata": {
        "id": "mOfGLcTE03sH"
      },
      "execution_count": null,
      "outputs": []
    },
    {
      "cell_type": "code",
      "source": [
        "projected_gdf = dissolve_and_reset(projected_gdf)"
      ],
      "metadata": {
        "id": "18uhlpOx04e5"
      },
      "execution_count": null,
      "outputs": []
    },
    {
      "cell_type": "code",
      "source": [
        "projected_gdf.to_parquet(Path(DATASETS_DIR, f\"{dir}-projected.parquet\"))"
      ],
      "metadata": {
        "id": "MzWmZkHc06EA"
      },
      "execution_count": null,
      "outputs": []
    },
    {
      "cell_type": "markdown",
      "source": [
        "------"
      ],
      "metadata": {
        "id": "U0f6-DIq1Tp9"
      }
    },
    {
      "cell_type": "markdown",
      "source": [
        "### Alluvial Fan, Debris Flow"
      ],
      "metadata": {
        "id": "vat5tICu1VfB"
      }
    },
    {
      "cell_type": "code",
      "source": [
        "PATH_TO_AFDF = Path(CALAMITY_SHPFILE_DIR, \"AlluvialFanDebrisFlow\")"
      ],
      "metadata": {
        "id": "B3XwCubU1UNW"
      },
      "execution_count": 32,
      "outputs": []
    },
    {
      "cell_type": "code",
      "source": [
        "dir = \"AlluvialFan\""
      ],
      "metadata": {
        "id": "gQu4MoSN1vOw"
      },
      "execution_count": 33,
      "outputs": []
    },
    {
      "cell_type": "code",
      "source": [
        "map_to_city(PATH_TO_AFDF, dir)"
      ],
      "metadata": {
        "colab": {
          "base_uri": "https://localhost:8080/"
        },
        "id": "o-yCrPij14lZ",
        "outputId": "441fcf78-452a-412f-cd08-a4edd0199096"
      },
      "execution_count": 34,
      "outputs": [
        {
          "output_type": "stream",
          "name": "stdout",
          "text": [
            "Merging AlluvialFan...\n",
            "Progress: 1/1\n",
            "Unzipping Philippines_AlluvialFan.zip...\n",
            "Reading Philippines_AlluvialFan.zip...\n",
            "Mapping to cities: Philippines_AlluvialFan.zip...\n",
            "Dropping duplicates from output dataframe...\n",
            "Persisting output dataframe...\n",
            "Deleting Philippines_AlluvialFan.zip artifacts...\n",
            "========\n"
          ]
        }
      ]
    },
    {
      "cell_type": "code",
      "source": [
        "projected_gdf = gp.read_parquet(Path(DATASETS_DIR, f\"{dir}-projected.parquet\"))"
      ],
      "metadata": {
        "id": "JaB8Lq2C14lc"
      },
      "execution_count": 35,
      "outputs": []
    },
    {
      "cell_type": "code",
      "source": [
        "projected_gdf = dissolve_and_reset(projected_gdf)"
      ],
      "metadata": {
        "id": "eu2gGHY314ld"
      },
      "execution_count": 36,
      "outputs": []
    },
    {
      "cell_type": "code",
      "source": [
        "projected_gdf.to_parquet(Path(DATASETS_DIR, f\"{dir}-projected.parquet\"))"
      ],
      "metadata": {
        "id": "JvMnIHwu14ld"
      },
      "execution_count": 37,
      "outputs": []
    },
    {
      "cell_type": "markdown",
      "source": [
        "-------"
      ],
      "metadata": {
        "id": "YsAeU5l819na"
      }
    },
    {
      "cell_type": "code",
      "source": [
        "PATH_TO_DEBRIS_FLOW = Path(CALAMITY_SHPFILE_DIR, \"AlluvialFanDebrisFlow\")"
      ],
      "metadata": {
        "id": "6ybMhSMN19nc"
      },
      "execution_count": 38,
      "outputs": []
    },
    {
      "cell_type": "code",
      "source": [
        "dir = \"DebrisFlow\""
      ],
      "metadata": {
        "id": "sgBgd4Jf19nd"
      },
      "execution_count": 39,
      "outputs": []
    },
    {
      "cell_type": "code",
      "source": [
        "map_to_city(PATH_TO_AFDF, dir)"
      ],
      "metadata": {
        "colab": {
          "base_uri": "https://localhost:8080/"
        },
        "id": "RAvz7T3g19nd",
        "outputId": "9fe99f29-f951-4bed-a352-efb59eab75c9"
      },
      "execution_count": null,
      "outputs": [
        {
          "output_type": "stream",
          "name": "stdout",
          "text": [
            "Merging DebrisFlow...\n",
            "Progress: 1/1\n",
            "Unzipping Philippines_DebrisFlow.zip...\n",
            "Reading Philippines_DebrisFlow.zip...\n",
            "Mapping to cities: Philippines_DebrisFlow.zip...\n"
          ]
        }
      ]
    },
    {
      "cell_type": "code",
      "source": [
        "projected_gdf = gp.read_parquet(Path(DATASETS_DIR, f\"{dir}-projected.parquet\"))"
      ],
      "metadata": {
        "id": "0rsZEVpw19nd"
      },
      "execution_count": null,
      "outputs": []
    },
    {
      "cell_type": "code",
      "source": [
        "projected_gdf = dissolve_and_reset(projected_gdf)"
      ],
      "metadata": {
        "id": "l89O3J7k19ne"
      },
      "execution_count": null,
      "outputs": []
    },
    {
      "cell_type": "code",
      "source": [
        "projected_gdf.to_parquet(Path(DATASETS_DIR, f\"{dir}-projected.parquet\"))"
      ],
      "metadata": {
        "id": "CiV-wWzx19ne"
      },
      "execution_count": null,
      "outputs": []
    },
    {
      "cell_type": "markdown",
      "source": [
        "------"
      ],
      "metadata": {
        "id": "18YYGvH719ne"
      }
    }
  ]
}